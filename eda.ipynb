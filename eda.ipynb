{
 "cells": [
  {
   "cell_type": "markdown",
   "metadata": {},
   "source": [
    "## Imports"
   ]
  },
  {
   "cell_type": "code",
   "execution_count": 1,
   "metadata": {},
   "outputs": [
    {
     "name": "stdout",
     "output_type": "stream",
     "text": [
      "<class 'pandas.core.frame.DataFrame'>\n",
      "Index: 8343 entries, 325A to 1271F\n",
      "Data columns (total 2 columns):\n",
      " #   Column             Non-Null Count  Dtype \n",
      "---  ------             --------------  ----- \n",
      " 0   problem_statement  8336 non-null   object\n",
      " 1   tags               8279 non-null   object\n",
      "dtypes: object(2)\n",
      "memory usage: 195.5+ KB\n",
      "None\n"
     ]
    },
    {
     "data": {
      "text/html": [
       "<div>\n",
       "<style scoped>\n",
       "    .dataframe tbody tr th:only-of-type {\n",
       "        vertical-align: middle;\n",
       "    }\n",
       "\n",
       "    .dataframe tbody tr th {\n",
       "        vertical-align: top;\n",
       "    }\n",
       "\n",
       "    .dataframe thead th {\n",
       "        text-align: right;\n",
       "    }\n",
       "</style>\n",
       "<table border=\"1\" class=\"dataframe\">\n",
       "  <thead>\n",
       "    <tr style=\"text-align: right;\">\n",
       "      <th></th>\n",
       "      <th>problem_statement</th>\n",
       "      <th>tags</th>\n",
       "    </tr>\n",
       "  </thead>\n",
       "  <tbody>\n",
       "    <tr>\n",
       "      <th>325A</th>\n",
       "      <td>You are given n rectangles. The corners of rec...</td>\n",
       "      <td>implementation,*1500</td>\n",
       "    </tr>\n",
       "    <tr>\n",
       "      <th>325B</th>\n",
       "      <td>Daniel is organizing a football tournament. He...</td>\n",
       "      <td>binarysearch,math,*1800</td>\n",
       "    </tr>\n",
       "    <tr>\n",
       "      <th>325C</th>\n",
       "      <td>Piegirl has found a monster and a book about m...</td>\n",
       "      <td>dfsandsimilar,graphs,shortestpaths,*2600</td>\n",
       "    </tr>\n",
       "    <tr>\n",
       "      <th>325D</th>\n",
       "      <td>In a far away land, there exists a planet shap...</td>\n",
       "      <td>dsu,*2900</td>\n",
       "    </tr>\n",
       "    <tr>\n",
       "      <th>325E</th>\n",
       "      <td>Piegirl found the red button. You have one las...</td>\n",
       "      <td>combinatorics,dfsandsimilar,dsu,graphs,greedy,...</td>\n",
       "    </tr>\n",
       "  </tbody>\n",
       "</table>\n",
       "</div>"
      ],
      "text/plain": [
       "                                      problem_statement  \\\n",
       "325A  You are given n rectangles. The corners of rec...   \n",
       "325B  Daniel is organizing a football tournament. He...   \n",
       "325C  Piegirl has found a monster and a book about m...   \n",
       "325D  In a far away land, there exists a planet shap...   \n",
       "325E  Piegirl found the red button. You have one las...   \n",
       "\n",
       "                                                   tags  \n",
       "325A                               implementation,*1500  \n",
       "325B                            binarysearch,math,*1800  \n",
       "325C           dfsandsimilar,graphs,shortestpaths,*2600  \n",
       "325D                                          dsu,*2900  \n",
       "325E  combinatorics,dfsandsimilar,dsu,graphs,greedy,...  "
      ]
     },
     "execution_count": 1,
     "metadata": {},
     "output_type": "execute_result"
    }
   ],
   "source": [
    "import collections\n",
    "import numpy as np\n",
    "import pandas as pd\n",
    "import matplotlib.pyplot as plt\n",
    "import config\n",
    "np.random.seed(config.SEED)\n",
    "\n",
    "df = pd.read_csv(config.DATA_CSV)\n",
    "df.index = df[\"contest\"].astype(str)+df[\"problem_name\"]\n",
    "df = df[[\"problem_statement\",\"problem_tags\"]]\n",
    "df.columns = [\"problem_statement\",\"tags\"]\n",
    "\n",
    "print(df.info())\n",
    "df.head()"
   ]
  },
  {
   "cell_type": "markdown",
   "metadata": {},
   "source": [
    "## Train test split"
   ]
  },
  {
   "cell_type": "code",
   "execution_count": 2,
   "metadata": {},
   "outputs": [
    {
     "name": "stdout",
     "output_type": "stream",
     "text": [
      "(6674, 2) (1669, 2)\n"
     ]
    },
    {
     "data": {
      "text/html": [
       "<div>\n",
       "<style scoped>\n",
       "    .dataframe tbody tr th:only-of-type {\n",
       "        vertical-align: middle;\n",
       "    }\n",
       "\n",
       "    .dataframe tbody tr th {\n",
       "        vertical-align: top;\n",
       "    }\n",
       "\n",
       "    .dataframe thead th {\n",
       "        text-align: right;\n",
       "    }\n",
       "</style>\n",
       "<table border=\"1\" class=\"dataframe\">\n",
       "  <thead>\n",
       "    <tr style=\"text-align: right;\">\n",
       "      <th></th>\n",
       "      <th>problem_statement</th>\n",
       "      <th>tags</th>\n",
       "    </tr>\n",
       "  </thead>\n",
       "  <tbody>\n",
       "    <tr>\n",
       "      <th>778B</th>\n",
       "      <td>Bob recently read about bitwise operations use...</td>\n",
       "      <td>bitmasks,bruteforce,dfsandsimilar,expressionpa...</td>\n",
       "    </tr>\n",
       "    <tr>\n",
       "      <th>552B</th>\n",
       "      <td>Vanya got an important task — he should enumer...</td>\n",
       "      <td>implementation,math,*1200</td>\n",
       "    </tr>\n",
       "    <tr>\n",
       "      <th>1344D</th>\n",
       "      <td>Uh oh! Applications to tech companies are due ...</td>\n",
       "      <td>binarysearch,greedy,math,*2700</td>\n",
       "    </tr>\n",
       "    <tr>\n",
       "      <th>1182D</th>\n",
       "      <td>You have given tree consist of $$$n$$$ vertice...</td>\n",
       "      <td>constructivealgorithms,dfsandsimilar,dp,hashin...</td>\n",
       "    </tr>\n",
       "    <tr>\n",
       "      <th>860C</th>\n",
       "      <td>The All-Berland National Olympiad in Informati...</td>\n",
       "      <td>greedy,*2200</td>\n",
       "    </tr>\n",
       "  </tbody>\n",
       "</table>\n",
       "</div>"
      ],
      "text/plain": [
       "                                       problem_statement  \\\n",
       "778B   Bob recently read about bitwise operations use...   \n",
       "552B   Vanya got an important task — he should enumer...   \n",
       "1344D  Uh oh! Applications to tech companies are due ...   \n",
       "1182D  You have given tree consist of $$$n$$$ vertice...   \n",
       "860C   The All-Berland National Olympiad in Informati...   \n",
       "\n",
       "                                                    tags  \n",
       "778B   bitmasks,bruteforce,dfsandsimilar,expressionpa...  \n",
       "552B                           implementation,math,*1200  \n",
       "1344D                     binarysearch,greedy,math,*2700  \n",
       "1182D  constructivealgorithms,dfsandsimilar,dp,hashin...  \n",
       "860C                                        greedy,*2200  "
      ]
     },
     "execution_count": 2,
     "metadata": {},
     "output_type": "execute_result"
    }
   ],
   "source": [
    "# train test split\n",
    "from sklearn.model_selection import train_test_split\n",
    "train, test = train_test_split(\n",
    "    df, test_size=0.2, random_state=config.SEED)\n",
    "print(train.shape, test.shape)\n",
    "train.tail()"
   ]
  },
  {
   "cell_type": "markdown",
   "metadata": {},
   "source": [
    "## problem_statement"
   ]
  },
  {
   "cell_type": "code",
   "execution_count": 3,
   "metadata": {},
   "outputs": [
    {
     "data": {
      "text/plain": [
       "count                                                  8336\n",
       "unique                                                 6818\n",
       "top       The Smart Beaver from ABBYY came up with anoth...\n",
       "freq                                                     20\n",
       "Name: problem_statement, dtype: object"
      ]
     },
     "execution_count": 3,
     "metadata": {},
     "output_type": "execute_result"
    }
   ],
   "source": [
    "df[\"problem_statement\"].describe()"
   ]
  },
  {
   "cell_type": "code",
   "execution_count": 4,
   "metadata": {},
   "outputs": [
    {
     "data": {
      "image/png": "[encoded data removed]",
      "text/plain": [
       "<Figure size 432x288 with 1 Axes>"
      ]
     },
     "metadata": {
      "needs_background": "light"
     },
     "output_type": "display_data"
    }
   ],
   "source": [
    "samples = df[\"problem_statement\"].values\n",
    "plt.hist([len(str(s)) for s in samples], 100)\n",
    "plt.xlim(0,5000)\n",
    "plt.xlabel(\"Sample size\")\n",
    "plt.ylabel(\"Sample count\")\n",
    "plt.title(\"\")\n",
    "plt.show()"
   ]
  },
  {
   "cell_type": "code",
   "execution_count": 5,
   "metadata": {},
   "outputs": [],
   "source": [
    "# from preprocess import preprocess_text\n",
    "    # remove mathjax stuff with regex\n",
    "    # https://stackoverflow.com/a/171483/3413574"
   ]
  },
  {
   "cell_type": "code",
   "execution_count": 6,
   "metadata": {},
   "outputs": [
    {
     "name": "stdout",
     "output_type": "stream",
     "text": [
      "soroush complet area sorush 100th carpet persian contest input want site integ onli put consist write squar celebr rotat side bought befor allow cover length completelyth room yes favorit n1soroush three number singl fine\n",
      "*specialproblem,implementation,*1100\n"
     ]
    }
   ],
   "source": [
    "import re\n",
    "from preprocess import preprocess_text\n",
    "text = df.loc[\"100A\",\"problem_statement\"]\n",
    "print(preprocess_text(text))\n",
    "print(df.loc[\"100A\",\"tags\"])\n",
    "\n",
    "df[\"problem_statement\"] = \\\n",
    "    df[\"problem_statement\"].apply(lambda x:preprocess_text(str(x)))"
   ]
  },
  {
   "cell_type": "markdown",
   "metadata": {},
   "source": [
    "## Tags"
   ]
  },
  {
   "cell_type": "code",
   "execution_count": 7,
   "metadata": {},
   "outputs": [
    {
     "data": {
      "text/plain": [
       "count                    8279\n",
       "unique                   4786\n",
       "top       implementation,*800\n",
       "freq                      109\n",
       "Name: tags, dtype: object"
      ]
     },
     "execution_count": 7,
     "metadata": {},
     "output_type": "execute_result"
    }
   ],
   "source": [
    "df[\"tags\"].describe()"
   ]
  },
  {
   "cell_type": "code",
   "execution_count": 8,
   "metadata": {},
   "outputs": [
    {
     "data": {
      "text/html": [
       "<div>\n",
       "<style scoped>\n",
       "    .dataframe tbody tr th:only-of-type {\n",
       "        vertical-align: middle;\n",
       "    }\n",
       "\n",
       "    .dataframe tbody tr th {\n",
       "        vertical-align: top;\n",
       "    }\n",
       "\n",
       "    .dataframe thead th {\n",
       "        text-align: right;\n",
       "    }\n",
       "</style>\n",
       "<table border=\"1\" class=\"dataframe\">\n",
       "  <thead>\n",
       "    <tr style=\"text-align: right;\">\n",
       "      <th></th>\n",
       "      <th>problem_statement</th>\n",
       "      <th>tags</th>\n",
       "    </tr>\n",
       "  </thead>\n",
       "  <tbody>\n",
       "    <tr>\n",
       "      <th>1271B</th>\n",
       "      <td>dont right report want string contain answer b...</td>\n",
       "      <td>[greedy, math]</td>\n",
       "    </tr>\n",
       "    <tr>\n",
       "      <th>1271C</th>\n",
       "      <td>neighbour even respectivelythen want contain a...</td>\n",
       "      <td>[bruteforce, geometry, greedy, implementation]</td>\n",
       "    </tr>\n",
       "    <tr>\n",
       "      <th>1271D</th>\n",
       "      <td>import dont even respectivelythen castl smalle...</td>\n",
       "      <td>[datastructures, dp, greedy, implementation, s...</td>\n",
       "    </tr>\n",
       "    <tr>\n",
       "      <th>1271E</th>\n",
       "      <td>right even contain answer write need otherwis ...</td>\n",
       "      <td>[binarysearch, combinatorics, dp, math]</td>\n",
       "    </tr>\n",
       "    <tr>\n",
       "      <th>1271F</th>\n",
       "      <td>space obvious data groupsth scienc usual dont ...</td>\n",
       "      <td>[bruteforce]</td>\n",
       "    </tr>\n",
       "  </tbody>\n",
       "</table>\n",
       "</div>"
      ],
      "text/plain": [
       "                                       problem_statement  \\\n",
       "1271B  dont right report want string contain answer b...   \n",
       "1271C  neighbour even respectivelythen want contain a...   \n",
       "1271D  import dont even respectivelythen castl smalle...   \n",
       "1271E  right even contain answer write need otherwis ...   \n",
       "1271F  space obvious data groupsth scienc usual dont ...   \n",
       "\n",
       "                                                    tags  \n",
       "1271B                                     [greedy, math]  \n",
       "1271C     [bruteforce, geometry, greedy, implementation]  \n",
       "1271D  [datastructures, dp, greedy, implementation, s...  \n",
       "1271E            [binarysearch, combinatorics, dp, math]  \n",
       "1271F                                       [bruteforce]  "
      ]
     },
     "execution_count": 8,
     "metadata": {},
     "output_type": "execute_result"
    }
   ],
   "source": [
    "from preprocess import clean_tags_column\n",
    "df[\"tags\"]=df[\"tags\"].apply(clean_tags_column)\n",
    "df = df[df.tags.str.len()>=1]\n",
    "df.tail()"
   ]
  },
  {
   "cell_type": "code",
   "execution_count": 12,
   "metadata": {},
   "outputs": [
    {
     "name": "stdout",
     "output_type": "stream",
     "text": [
      "implementation            2221\n",
      "math                      2028\n",
      "greedy                    1950\n",
      "dp                        1673\n",
      "datastructures            1290\n",
      "constructivealgorithms    1181\n",
      "bruteforce                1173\n",
      "graphs                     901\n",
      "binarysearch               786\n",
      "sortings                   759\n",
      "Name: tags, dtype: int64\n"
     ]
    },
    {
     "data": {
      "image/png": "[encoded data removed]",
      "text/plain": [
       "<Figure size 720x288 with 1 Axes>"
      ]
     },
     "metadata": {
      "needs_background": "light"
     },
     "output_type": "display_data"
    }
   ],
   "source": [
    "# tag stats\n",
    "# https://stackoverflow.com/a/71887174/3413574\n",
    "tag_stats = df[\"tags\"].explode().value_counts()\n",
    "tag_stats.plot(kind=\"bar\", figsize=(10,4))\n",
    "print(tag_stats.head(10))"
   ]
  },
  {
   "cell_type": "code",
   "execution_count": 10,
   "metadata": {},
   "outputs": [
    {
     "data": {
      "text/html": [
       "<div>\n",
       "<style scoped>\n",
       "    .dataframe tbody tr th:only-of-type {\n",
       "        vertical-align: middle;\n",
       "    }\n",
       "\n",
       "    .dataframe tbody tr th {\n",
       "        vertical-align: top;\n",
       "    }\n",
       "\n",
       "    .dataframe thead th {\n",
       "        text-align: right;\n",
       "    }\n",
       "</style>\n",
       "<table border=\"1\" class=\"dataframe\">\n",
       "  <thead>\n",
       "    <tr style=\"text-align: right;\">\n",
       "      <th></th>\n",
       "      <th>problem_statement</th>\n",
       "      <th>tags</th>\n",
       "    </tr>\n",
       "  </thead>\n",
       "  <tbody>\n",
       "    <tr>\n",
       "      <th>325A</th>\n",
       "      <td>bottom right contain touch otherwis top print ...</td>\n",
       "      <td>[implementation]</td>\n",
       "    </tr>\n",
       "    <tr>\n",
       "      <th>325B</th>\n",
       "      <td>specifierprint prefer organ contain exact writ...</td>\n",
       "      <td>[binarysearch, math]</td>\n",
       "    </tr>\n",
       "    <tr>\n",
       "      <th>325C</th>\n",
       "      <td>piegirl smallest monster contain exact feed wa...</td>\n",
       "      <td>[dfsandsimilar, graphs, shortestpaths]</td>\n",
       "    </tr>\n",
       "    <tr>\n",
       "      <th>325D</th>\n",
       "      <td>red space day proceed rout bottom right column...</td>\n",
       "      <td>[dsu]</td>\n",
       "    </tr>\n",
       "    <tr>\n",
       "      <th>325E</th>\n",
       "      <td>piegirl red deactiv circuit particular modulo ...</td>\n",
       "      <td>[combinatorics, dfsandsimilar, dsu, graphs, gr...</td>\n",
       "    </tr>\n",
       "    <tr>\n",
       "      <th>...</th>\n",
       "      <td>...</td>\n",
       "      <td>...</td>\n",
       "    </tr>\n",
       "    <tr>\n",
       "      <th>1271B</th>\n",
       "      <td>dont right report want string contain answer b...</td>\n",
       "      <td>[greedy, math]</td>\n",
       "    </tr>\n",
       "    <tr>\n",
       "      <th>1271C</th>\n",
       "      <td>neighbour even respectivelythen want contain a...</td>\n",
       "      <td>[bruteforce, geometry, greedy, implementation]</td>\n",
       "    </tr>\n",
       "    <tr>\n",
       "      <th>1271D</th>\n",
       "      <td>import dont even respectivelythen castl smalle...</td>\n",
       "      <td>[datastructures, dp, greedy, implementation, s...</td>\n",
       "    </tr>\n",
       "    <tr>\n",
       "      <th>1271E</th>\n",
       "      <td>right even contain answer write need otherwis ...</td>\n",
       "      <td>[binarysearch, combinatorics, dp, math]</td>\n",
       "    </tr>\n",
       "    <tr>\n",
       "      <th>1271F</th>\n",
       "      <td>space obvious data groupsth scienc usual dont ...</td>\n",
       "      <td>[bruteforce]</td>\n",
       "    </tr>\n",
       "  </tbody>\n",
       "</table>\n",
       "<p>7840 rows × 2 columns</p>\n",
       "</div>"
      ],
      "text/plain": [
       "                                       problem_statement  \\\n",
       "325A   bottom right contain touch otherwis top print ...   \n",
       "325B   specifierprint prefer organ contain exact writ...   \n",
       "325C   piegirl smallest monster contain exact feed wa...   \n",
       "325D   red space day proceed rout bottom right column...   \n",
       "325E   piegirl red deactiv circuit particular modulo ...   \n",
       "...                                                  ...   \n",
       "1271B  dont right report want string contain answer b...   \n",
       "1271C  neighbour even respectivelythen want contain a...   \n",
       "1271D  import dont even respectivelythen castl smalle...   \n",
       "1271E  right even contain answer write need otherwis ...   \n",
       "1271F  space obvious data groupsth scienc usual dont ...   \n",
       "\n",
       "                                                    tags  \n",
       "325A                                    [implementation]  \n",
       "325B                                [binarysearch, math]  \n",
       "325C              [dfsandsimilar, graphs, shortestpaths]  \n",
       "325D                                               [dsu]  \n",
       "325E   [combinatorics, dfsandsimilar, dsu, graphs, gr...  \n",
       "...                                                  ...  \n",
       "1271B                                     [greedy, math]  \n",
       "1271C     [bruteforce, geometry, greedy, implementation]  \n",
       "1271D  [datastructures, dp, greedy, implementation, s...  \n",
       "1271E            [binarysearch, combinatorics, dp, math]  \n",
       "1271F                                       [bruteforce]  \n",
       "\n",
       "[7840 rows x 2 columns]"
      ]
     },
     "execution_count": 10,
     "metadata": {},
     "output_type": "execute_result"
    }
   ],
   "source": [
    "df"
   ]
  },
  {
   "cell_type": "markdown",
   "metadata": {},
   "source": [
    "## Wordcloud"
   ]
  },
  {
   "cell_type": "code",
   "execution_count": 11,
   "metadata": {},
   "outputs": [
    {
     "name": "stdout",
     "output_type": "stream",
     "text": [
      "implementation\n"
     ]
    },
    {
     "ename": "TypeError",
     "evalue": "argument of type 'float' is not iterable",
     "output_type": "error",
     "traceback": [
      "\u001b[0;31m---------------------------------------------------------------------------\u001b[0m",
      "\u001b[0;31mTypeError\u001b[0m                                 Traceback (most recent call last)",
      "\u001b[1;32m/home/jhojin/CODE/codeforces_tag_predict/eda.ipynb Cell 16\u001b[0m in \u001b[0;36m<cell line: 22>\u001b[0;34m()\u001b[0m\n\u001b[1;32m     <a href='vscode-notebook-cell://wsl%2Bubuntu/home/jhojin/CODE/codeforces_tag_predict/eda.ipynb#X21sdnNjb2RlLXJlbW90ZQ%3D%3D?line=22'>23</a>\u001b[0m \u001b[39mprint\u001b[39m(tag)\n\u001b[1;32m     <a href='vscode-notebook-cell://wsl%2Bubuntu/home/jhojin/CODE/codeforces_tag_predict/eda.ipynb#X21sdnNjb2RlLXJlbW90ZQ%3D%3D?line=23'>24</a>\u001b[0m plt\u001b[39m.\u001b[39msubplot(\u001b[39m7\u001b[39m,\u001b[39m1\u001b[39m,i\u001b[39m+\u001b[39m\u001b[39m1\u001b[39m)\n\u001b[0;32m---> <a href='vscode-notebook-cell://wsl%2Bubuntu/home/jhojin/CODE/codeforces_tag_predict/eda.ipynb#X21sdnNjb2RlLXJlbW90ZQ%3D%3D?line=24'>25</a>\u001b[0m print_wordcloud(tag)\n",
      "\u001b[1;32m/home/jhojin/CODE/codeforces_tag_predict/eda.ipynb Cell 16\u001b[0m in \u001b[0;36mprint_wordcloud\u001b[0;34m(tag)\u001b[0m\n\u001b[1;32m      <a href='vscode-notebook-cell://wsl%2Bubuntu/home/jhojin/CODE/codeforces_tag_predict/eda.ipynb#X21sdnNjb2RlLXJlbW90ZQ%3D%3D?line=4'>5</a>\u001b[0m text \u001b[39m=\u001b[39m \u001b[39m\"\u001b[39m\u001b[39m\"\u001b[39m\n\u001b[1;32m      <a href='vscode-notebook-cell://wsl%2Bubuntu/home/jhojin/CODE/codeforces_tag_predict/eda.ipynb#X21sdnNjb2RlLXJlbW90ZQ%3D%3D?line=5'>6</a>\u001b[0m \u001b[39mfor\u001b[39;00m idx \u001b[39min\u001b[39;00m train\u001b[39m.\u001b[39mindex:\n\u001b[0;32m----> <a href='vscode-notebook-cell://wsl%2Bubuntu/home/jhojin/CODE/codeforces_tag_predict/eda.ipynb#X21sdnNjb2RlLXJlbW90ZQ%3D%3D?line=6'>7</a>\u001b[0m     \u001b[39mif\u001b[39;00m tag \u001b[39min\u001b[39;49;00m train\u001b[39m.\u001b[39;49mloc[idx,\u001b[39m\"\u001b[39;49m\u001b[39mtags\u001b[39;49m\u001b[39m\"\u001b[39;49m]:\n\u001b[1;32m      <a href='vscode-notebook-cell://wsl%2Bubuntu/home/jhojin/CODE/codeforces_tag_predict/eda.ipynb#X21sdnNjb2RlLXJlbW90ZQ%3D%3D?line=7'>8</a>\u001b[0m         text\u001b[39m+\u001b[39m\u001b[39m=\u001b[39m(\u001b[39mstr\u001b[39m(train\u001b[39m.\u001b[39mloc[idx,\u001b[39m\"\u001b[39m\u001b[39mproblem_statement\u001b[39m\u001b[39m\"\u001b[39m]))\n\u001b[1;32m      <a href='vscode-notebook-cell://wsl%2Bubuntu/home/jhojin/CODE/codeforces_tag_predict/eda.ipynb#X21sdnNjb2RlLXJlbW90ZQ%3D%3D?line=8'>9</a>\u001b[0m \u001b[39m# print(dp_text)\u001b[39;00m\n\u001b[1;32m     <a href='vscode-notebook-cell://wsl%2Bubuntu/home/jhojin/CODE/codeforces_tag_predict/eda.ipynb#X21sdnNjb2RlLXJlbW90ZQ%3D%3D?line=9'>10</a>\u001b[0m \n\u001b[1;32m     <a href='vscode-notebook-cell://wsl%2Bubuntu/home/jhojin/CODE/codeforces_tag_predict/eda.ipynb#X21sdnNjb2RlLXJlbW90ZQ%3D%3D?line=10'>11</a>\u001b[0m \u001b[39m# Generate a word cloud image\u001b[39;00m\n",
      "\u001b[0;31mTypeError\u001b[0m: argument of type 'float' is not iterable"
     ]
    },
    {
     "data": {
      "image/png": "[encoded data removed]",
      "text/plain": [
       "<Figure size 1440x4320 with 1 Axes>"
      ]
     },
     "metadata": {
      "needs_background": "light"
     },
     "output_type": "display_data"
    }
   ],
   "source": [
    "# wordcloud visualization\n",
    "from wordcloud import WordCloud\n",
    "\n",
    "def print_wordcloud(tag):\n",
    "    text = \"\"\n",
    "    for idx in train.index:\n",
    "        if tag in train.loc[idx,\"tags\"]:\n",
    "            text+=(str(train.loc[idx,\"problem_statement\"]))\n",
    "    # print(dp_text)\n",
    "\n",
    "    # Generate a word cloud image\n",
    "    wordcloud = WordCloud().generate(text)\n",
    "    # Display the generated image:\n",
    "    # the matplotlib way:\n",
    "    plt.title(tag)\n",
    "    plt.imshow(wordcloud)\n",
    "    plt.axis(\"off\")\n",
    "\n",
    "import matplotlib.pyplot as plt\n",
    "plt.figure(figsize=(20,60))\n",
    "tags = \"implementation math greedy dp bruteforce graphs binarysearch\".split()\n",
    "for i,tag in enumerate(tags):\n",
    "    print(tag)\n",
    "    plt.subplot(7,1,i+1)\n",
    "    print_wordcloud(tag)"
   ]
  },
  {
   "cell_type": "code",
   "execution_count": null,
   "metadata": {},
   "outputs": [],
   "source": [
    "train.to_pickle(config.TRAIN)\n",
    "test.to_pickle(config.TEST)"
   ]
  },
  {
   "cell_type": "code",
   "execution_count": null,
   "metadata": {},
   "outputs": [],
   "source": [
    "# !pip install wordcloud"
   ]
  },
  {
   "cell_type": "code",
   "execution_count": null,
   "metadata": {},
   "outputs": [],
   "source": [
    "print_wordcloud(\"math\")"
   ]
  },
  {
   "cell_type": "markdown",
   "metadata": {},
   "source": [
    "## eda+performance improvement for tag:implementation"
   ]
  },
  {
   "cell_type": "code",
   "execution_count": null,
   "metadata": {},
   "outputs": [],
   "source": [
    "imple = train.copy()\n",
    "print(imple.iloc[0])\n",
    "imple[[\"implementation\"]] = 1\n",
    "for idx in imple.index:\n",
    "    if \"implementation\" not in imple.loc[idx,\"tags\"]:\n",
    "        imple.loc[idx,\"implementation\"] = 0\n",
    "\n",
    "imple = imple[[\"problem_statement\",\"implementation\"]]\n",
    "imple"
   ]
  },
  {
   "cell_type": "code",
   "execution_count": null,
   "metadata": {},
   "outputs": [],
   "source": [
    "imple_train, imple_test = train_test_split(\n",
    "    imple, test_size=0.2, random_state=config.SEED)\n",
    "imple_train.tail()\n",
    "\n",
    "from sklearn.feature_extraction.text import TfidfVectorizer\n",
    "vectorizer = TfidfVectorizer(max_features=config.MAX_FEATURES)\n",
    "xvect = vectorizer.fit_transform(imple_train[\"problem_statement\"].tolist())\n",
    "xvecttest = vectorizer.fit_transform(imple_test[\"problem_statement\"].tolist())\n",
    "\n",
    "from sklearn.multiclass import OneVsRestClassifier\n",
    "from sklearn.linear_model import LinearRegression\n",
    "clf =  OneVsRestClassifier(LinearRegression())\n",
    "clf.fit(xvect,imple_train[[\"implementation\"]])\n",
    "ypred = clf.predict(xvecttest)\n",
    "\n",
    "# baseline 0.6900398406374502\n",
    "from sklearn.metrics import accuracy_score\n",
    "accuracy_score(ypred,imple_test[[\"implementation\"]])\n"
   ]
  },
  {
   "cell_type": "code",
   "execution_count": null,
   "metadata": {},
   "outputs": [],
   "source": [
    "from sklearn.cluster import KMeans\n",
    "n_clusters=10\n",
    "model = KMeans(n_clusters)\n",
    "model.fit(xvect) # vectorized matrix"
   ]
  },
  {
   "cell_type": "code",
   "execution_count": null,
   "metadata": {},
   "outputs": [],
   "source": [
    "# distribution between clusters\n",
    "# number of articles per cluster\n",
    "model.labels_\n",
    "import collections\n",
    "df = pd.DataFrame(collections.Counter(model.labels_),\n",
    "    columns=range(0,n_clusters),index=[1]).T\n",
    "df.plot(kind=\"bar\",legend=False,\n",
    "    title=\"number of problems per cluster\")"
   ]
  },
  {
   "cell_type": "code",
   "execution_count": null,
   "metadata": {},
   "outputs": [],
   "source": [
    "order_centroids = model.cluster_centers_.argsort()[:, ::-1]\n",
    "terms = vectorizer.get_feature_names()\n",
    "\n",
    "for i in range(n_clusters):\n",
    "    top_words = [terms[ind] for ind in order_centroids[i, :5]]\n",
    "    print(\"Cluster {}: {}\".format(i, ' '.join(top_words)))\n"
   ]
  }
 ],
 "metadata": {
  "kernelspec": {
   "display_name": "Python 3.8.10 64-bit",
   "language": "python",
   "name": "python3"
  },
  "language_info": {
   "codemirror_mode": {
    "name": "ipython",
    "version": 3
   },
   "file_extension": ".py",
   "mimetype": "text/x-python",
   "name": "python",
   "nbconvert_exporter": "python",
   "pygments_lexer": "ipython3",
   "version": "3.8.10"
  },
  "orig_nbformat": 4,
  "vscode": {
   "interpreter": {
    "hash": "916dbcbb3f70747c44a77c7bcd40155683ae19c65e1c03b4aa3499c5328201f1"
   }
  }
 },
 "nbformat": 4,
 "nbformat_minor": 2
}
