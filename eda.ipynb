{
 "cells": [
  {
   "cell_type": "markdown",
   "metadata": {},
   "source": [
    "## Imports"
   ]
  },
  {
   "cell_type": "code",
   "execution_count": 1,
   "metadata": {},
   "outputs": [
    {
     "name": "stdout",
     "output_type": "stream",
     "text": [
      "<class 'pandas.core.frame.DataFrame'>\n",
      "Index: 8343 entries, 325A to 1271F\n",
      "Data columns (total 2 columns):\n",
      " #   Column             Non-Null Count  Dtype \n",
      "---  ------             --------------  ----- \n",
      " 0   problem_statement  8336 non-null   object\n",
      " 1   tags               8279 non-null   object\n",
      "dtypes: object(2)\n",
      "memory usage: 195.5+ KB\n",
      "None\n"
     ]
    },
    {
     "data": {
      "text/html": [
       "<div>\n",
       "<style scoped>\n",
       "    .dataframe tbody tr th:only-of-type {\n",
       "        vertical-align: middle;\n",
       "    }\n",
       "\n",
       "    .dataframe tbody tr th {\n",
       "        vertical-align: top;\n",
       "    }\n",
       "\n",
       "    .dataframe thead th {\n",
       "        text-align: right;\n",
       "    }\n",
       "</style>\n",
       "<table border=\"1\" class=\"dataframe\">\n",
       "  <thead>\n",
       "    <tr style=\"text-align: right;\">\n",
       "      <th></th>\n",
       "      <th>problem_statement</th>\n",
       "      <th>tags</th>\n",
       "    </tr>\n",
       "  </thead>\n",
       "  <tbody>\n",
       "    <tr>\n",
       "      <th>1271B</th>\n",
       "      <td>There are $$$n$$$ blocks arranged in a row and...</td>\n",
       "      <td>greedy,math,*1300</td>\n",
       "    </tr>\n",
       "    <tr>\n",
       "      <th>1271C</th>\n",
       "      <td>The map of the capital of Berland can be viewe...</td>\n",
       "      <td>bruteforce,geometry,greedy,implementation,*1300</td>\n",
       "    </tr>\n",
       "    <tr>\n",
       "      <th>1271D</th>\n",
       "      <td>You play a strategic video game (yeah, we ran ...</td>\n",
       "      <td>datastructures,dp,greedy,implementation,sortin...</td>\n",
       "    </tr>\n",
       "    <tr>\n",
       "      <th>1271E</th>\n",
       "      <td>At first, let's define function $$$f(x)$$$ as ...</td>\n",
       "      <td>binarysearch,combinatorics,dp,math,*2100</td>\n",
       "    </tr>\n",
       "    <tr>\n",
       "      <th>1271F</th>\n",
       "      <td>Recently a lot of students were enrolled in Be...</td>\n",
       "      <td>bruteforce,*2700</td>\n",
       "    </tr>\n",
       "  </tbody>\n",
       "</table>\n",
       "</div>"
      ],
      "text/plain": [
       "                                       problem_statement  \\\n",
       "1271B  There are $$$n$$$ blocks arranged in a row and...   \n",
       "1271C  The map of the capital of Berland can be viewe...   \n",
       "1271D  You play a strategic video game (yeah, we ran ...   \n",
       "1271E  At first, let's define function $$$f(x)$$$ as ...   \n",
       "1271F  Recently a lot of students were enrolled in Be...   \n",
       "\n",
       "                                                    tags  \n",
       "1271B                                  greedy,math,*1300  \n",
       "1271C    bruteforce,geometry,greedy,implementation,*1300  \n",
       "1271D  datastructures,dp,greedy,implementation,sortin...  \n",
       "1271E           binarysearch,combinatorics,dp,math,*2100  \n",
       "1271F                                   bruteforce,*2700  "
      ]
     },
     "execution_count": 1,
     "metadata": {},
     "output_type": "execute_result"
    }
   ],
   "source": [
    "import collections\n",
    "import numpy as np\n",
    "import pandas as pd\n",
    "import matplotlib.pyplot as plt\n",
    "import config\n",
    "np.random.seed(config.SEED)\n",
    "\n",
    "# read data\n",
    "df = pd.read_csv(config.DATA_CSV)\n",
    "# create index. {contest}{problem} format\n",
    "df.index = df[\"contest\"].astype(str)+df[\"problem_name\"]\n",
    "# keep only problem_statement, tags\n",
    "df = df[[\"problem_statement\",\"problem_tags\"]]\n",
    "df.columns = [\"problem_statement\",\"tags\"]\n",
    "\n",
    "print(df.info())\n",
    "df.tail()"
   ]
  },
  {
   "cell_type": "markdown",
   "metadata": {},
   "source": [
    "## problem_statement"
   ]
  },
  {
   "cell_type": "code",
   "execution_count": 2,
   "metadata": {},
   "outputs": [
    {
     "data": {
      "text/plain": [
       "count                                                  8336\n",
       "unique                                                 6818\n",
       "top       The Smart Beaver from ABBYY came up with anoth...\n",
       "freq                                                     20\n",
       "Name: problem_statement, dtype: object"
      ]
     },
     "execution_count": 2,
     "metadata": {},
     "output_type": "execute_result"
    }
   ],
   "source": [
    "df[\"problem_statement\"].describe()"
   ]
  },
  {
   "cell_type": "code",
   "execution_count": 3,
   "metadata": {},
   "outputs": [
    {
     "data": {
      "image/png": "[encoded data removed]",
      "text/plain": [
       "<Figure size 432x288 with 1 Axes>"
      ]
     },
     "metadata": {
      "needs_background": "light"
     },
     "output_type": "display_data"
    }
   ],
   "source": [
    "# historgram on text data size\n",
    "samples = df[\"problem_statement\"].values\n",
    "plt.hist([len(str(s)) for s in samples], 100)\n",
    "plt.xlim(0,5000)\n",
    "plt.xlabel(\"sample size\")\n",
    "plt.ylabel(\"sample count\")\n",
    "plt.show()"
   ]
  },
  {
   "cell_type": "markdown",
   "metadata": {},
   "source": [
    "텍스트 길이가 1000~2000 사이인 데이터가 제일 많은듯.\n",
    "\n",
    "0~3000만 살리고 나머지는 자를까..."
   ]
  },
  {
   "cell_type": "code",
   "execution_count": 4,
   "metadata": {},
   "outputs": [
    {
     "name": "stdout",
     "output_type": "stream",
     "text": [
      "n1soroush contest input number onli allow carpet fine yes consist three 100th side cover singl length write area completelyth want bought squar site integ complet soroush sorush befor favorit rotat celebr room persian put\n",
      "*specialproblem,implementation,*1100\n"
     ]
    },
    {
     "data": {
      "text/plain": [
       "325A     given least singl top one touch determin equal...\n",
       "325B     specifi play i64d number organ format possibl ...\n",
       "325C     given number least end possibl unlimit across ...\n",
       "325D     given number allow rout locat leftmost possibl...\n",
       "325E     piegirl 1input number instead find twice inevi...\n",
       "                               ...                        \n",
       "1271B    bwwwwbbb number string find examplein possibl ...\n",
       "1271C    coincid build place number find school least e...\n",
       "1271D    play portal listedit number action mean least ...\n",
       "1271E    number find least end question get exampl begi...\n",
       "1271F    place given number mean possibl dont scienc co...\n",
       "Name: problem_statement, Length: 8343, dtype: object"
      ]
     },
     "execution_count": 4,
     "metadata": {},
     "output_type": "execute_result"
    }
   ],
   "source": [
    "from preprocess import preprocess_text\n",
    "\n",
    "text = df.loc[\"100A\",\"problem_statement\"]\n",
    "print(preprocess_text(text))\n",
    "print(df.loc[\"100A\",\"tags\"])\n",
    "\n",
    "df[\"problem_statement\"] = \\\n",
    "    df[\"problem_statement\"].apply(lambda x:preprocess_text(str(x)))\n",
    "\n",
    "df[\"problem_statement\"]"
   ]
  },
  {
   "cell_type": "markdown",
   "metadata": {},
   "source": [
    "## Tags"
   ]
  },
  {
   "cell_type": "code",
   "execution_count": 5,
   "metadata": {},
   "outputs": [
    {
     "data": {
      "text/plain": [
       "count                    8279\n",
       "unique                   4786\n",
       "top       implementation,*800\n",
       "freq                      109\n",
       "Name: tags, dtype: object"
      ]
     },
     "execution_count": 5,
     "metadata": {},
     "output_type": "execute_result"
    }
   ],
   "source": [
    "df[\"tags\"].describe()"
   ]
  },
  {
   "cell_type": "code",
   "execution_count": 6,
   "metadata": {},
   "outputs": [
    {
     "data": {
      "text/html": [
       "<div>\n",
       "<style scoped>\n",
       "    .dataframe tbody tr th:only-of-type {\n",
       "        vertical-align: middle;\n",
       "    }\n",
       "\n",
       "    .dataframe tbody tr th {\n",
       "        vertical-align: top;\n",
       "    }\n",
       "\n",
       "    .dataframe thead th {\n",
       "        text-align: right;\n",
       "    }\n",
       "</style>\n",
       "<table border=\"1\" class=\"dataframe\">\n",
       "  <thead>\n",
       "    <tr style=\"text-align: right;\">\n",
       "      <th></th>\n",
       "      <th>problem_statement</th>\n",
       "      <th>tags</th>\n",
       "    </tr>\n",
       "  </thead>\n",
       "  <tbody>\n",
       "    <tr>\n",
       "      <th>1271B</th>\n",
       "      <td>bwwwwbbb number string find examplein possibl ...</td>\n",
       "      <td>[greedy, math]</td>\n",
       "    </tr>\n",
       "    <tr>\n",
       "      <th>1271C</th>\n",
       "      <td>coincid build place number find school least e...</td>\n",
       "      <td>[bruteforce, geometry, greedy, implementation]</td>\n",
       "    </tr>\n",
       "    <tr>\n",
       "      <th>1271D</th>\n",
       "      <td>play portal listedit number action mean least ...</td>\n",
       "      <td>[datastructures, dp, greedy, implementation, s...</td>\n",
       "    </tr>\n",
       "    <tr>\n",
       "      <th>1271E</th>\n",
       "      <td>number find least end question get exampl begi...</td>\n",
       "      <td>[binarysearch, combinatorics, dp, math]</td>\n",
       "    </tr>\n",
       "    <tr>\n",
       "      <th>1271F</th>\n",
       "      <td>place given number mean possibl dont scienc co...</td>\n",
       "      <td>[bruteforce]</td>\n",
       "    </tr>\n",
       "  </tbody>\n",
       "</table>\n",
       "</div>"
      ],
      "text/plain": [
       "                                       problem_statement  \\\n",
       "1271B  bwwwwbbb number string find examplein possibl ...   \n",
       "1271C  coincid build place number find school least e...   \n",
       "1271D  play portal listedit number action mean least ...   \n",
       "1271E  number find least end question get exampl begi...   \n",
       "1271F  place given number mean possibl dont scienc co...   \n",
       "\n",
       "                                                    tags  \n",
       "1271B                                     [greedy, math]  \n",
       "1271C     [bruteforce, geometry, greedy, implementation]  \n",
       "1271D  [datastructures, dp, greedy, implementation, s...  \n",
       "1271E            [binarysearch, combinatorics, dp, math]  \n",
       "1271F                                       [bruteforce]  "
      ]
     },
     "execution_count": 6,
     "metadata": {},
     "output_type": "execute_result"
    }
   ],
   "source": [
    "from preprocess import clean_tags_column\n",
    "df[\"tags\"]=df[\"tags\"].apply(clean_tags_column)\n",
    "df = df[df.tags.str.len()>=1]\n",
    "df.tail()"
   ]
  },
  {
   "cell_type": "code",
   "execution_count": 7,
   "metadata": {},
   "outputs": [
    {
     "name": "stdout",
     "output_type": "stream",
     "text": [
      "implementation            2221\n",
      "math                      2028\n",
      "greedy                    1950\n",
      "dp                        1673\n",
      "datastructures            1290\n",
      "constructivealgorithms    1181\n",
      "bruteforce                1173\n",
      "graphs                     901\n",
      "binarysearch               786\n",
      "sortings                   759\n",
      "Name: tags, dtype: int64\n"
     ]
    },
    {
     "data": {
      "image/png": "[encoded data removed]",
      "text/plain": [
       "<Figure size 720x288 with 1 Axes>"
      ]
     },
     "metadata": {
      "needs_background": "light"
     },
     "output_type": "display_data"
    }
   ],
   "source": [
    "# tag stats\n",
    "# https://stackoverflow.com/a/71887174/3413574\n",
    "tag_stats = df[\"tags\"].explode().value_counts()\n",
    "tag_stats.plot(kind=\"bar\", figsize=(10,4))\n",
    "print(tag_stats.head(10))"
   ]
  },
  {
   "cell_type": "code",
   "execution_count": 8,
   "metadata": {},
   "outputs": [
    {
     "data": {
      "text/html": [
       "<div>\n",
       "<style scoped>\n",
       "    .dataframe tbody tr th:only-of-type {\n",
       "        vertical-align: middle;\n",
       "    }\n",
       "\n",
       "    .dataframe tbody tr th {\n",
       "        vertical-align: top;\n",
       "    }\n",
       "\n",
       "    .dataframe thead th {\n",
       "        text-align: right;\n",
       "    }\n",
       "</style>\n",
       "<table border=\"1\" class=\"dataframe\">\n",
       "  <thead>\n",
       "    <tr style=\"text-align: right;\">\n",
       "      <th></th>\n",
       "      <th>problem_statement</th>\n",
       "      <th>tags</th>\n",
       "    </tr>\n",
       "  </thead>\n",
       "  <tbody>\n",
       "    <tr>\n",
       "      <th>1271B</th>\n",
       "      <td>bwwwwbbb number string find examplein possibl ...</td>\n",
       "      <td>[greedy, math]</td>\n",
       "    </tr>\n",
       "    <tr>\n",
       "      <th>1271C</th>\n",
       "      <td>coincid build place number find school least e...</td>\n",
       "      <td>[bruteforce, geometry, greedy, implementation]</td>\n",
       "    </tr>\n",
       "    <tr>\n",
       "      <th>1271D</th>\n",
       "      <td>play portal listedit number action mean least ...</td>\n",
       "      <td>[datastructures, dp, greedy, implementation, s...</td>\n",
       "    </tr>\n",
       "    <tr>\n",
       "      <th>1271E</th>\n",
       "      <td>number find least end question get exampl begi...</td>\n",
       "      <td>[binarysearch, combinatorics, dp, math]</td>\n",
       "    </tr>\n",
       "    <tr>\n",
       "      <th>1271F</th>\n",
       "      <td>place given number mean possibl dont scienc co...</td>\n",
       "      <td>[bruteforce]</td>\n",
       "    </tr>\n",
       "  </tbody>\n",
       "</table>\n",
       "</div>"
      ],
      "text/plain": [
       "                                       problem_statement  \\\n",
       "1271B  bwwwwbbb number string find examplein possibl ...   \n",
       "1271C  coincid build place number find school least e...   \n",
       "1271D  play portal listedit number action mean least ...   \n",
       "1271E  number find least end question get exampl begi...   \n",
       "1271F  place given number mean possibl dont scienc co...   \n",
       "\n",
       "                                                    tags  \n",
       "1271B                                     [greedy, math]  \n",
       "1271C     [bruteforce, geometry, greedy, implementation]  \n",
       "1271D  [datastructures, dp, greedy, implementation, s...  \n",
       "1271E            [binarysearch, combinatorics, dp, math]  \n",
       "1271F                                       [bruteforce]  "
      ]
     },
     "execution_count": 8,
     "metadata": {},
     "output_type": "execute_result"
    }
   ],
   "source": [
    "df.tail()"
   ]
  },
  {
   "cell_type": "markdown",
   "metadata": {},
   "source": [
    "## 특정 태그들에 대해서만 EDA"
   ]
  },
  {
   "cell_type": "code",
   "execution_count": 9,
   "metadata": {},
   "outputs": [
    {
     "data": {
      "text/html": [
       "<div>\n",
       "<style scoped>\n",
       "    .dataframe tbody tr th:only-of-type {\n",
       "        vertical-align: middle;\n",
       "    }\n",
       "\n",
       "    .dataframe tbody tr th {\n",
       "        vertical-align: top;\n",
       "    }\n",
       "\n",
       "    .dataframe thead th {\n",
       "        text-align: right;\n",
       "    }\n",
       "</style>\n",
       "<table border=\"1\" class=\"dataframe\">\n",
       "  <thead>\n",
       "    <tr style=\"text-align: right;\">\n",
       "      <th></th>\n",
       "      <th>problem_statement</th>\n",
       "      <th>math</th>\n",
       "      <th>datastructures</th>\n",
       "      <th>graphs</th>\n",
       "      <th>greedy</th>\n",
       "      <th>dp</th>\n",
       "      <th>strings</th>\n",
       "      <th>geometry</th>\n",
       "      <th>constructivealgorithms</th>\n",
       "    </tr>\n",
       "  </thead>\n",
       "  <tbody>\n",
       "    <tr>\n",
       "      <th>1271B</th>\n",
       "      <td>bwwwwbbb number string find examplein possibl ...</td>\n",
       "      <td>1</td>\n",
       "      <td>0</td>\n",
       "      <td>0</td>\n",
       "      <td>1</td>\n",
       "      <td>0</td>\n",
       "      <td>0</td>\n",
       "      <td>0</td>\n",
       "      <td>0</td>\n",
       "    </tr>\n",
       "    <tr>\n",
       "      <th>1271C</th>\n",
       "      <td>coincid build place number find school least e...</td>\n",
       "      <td>0</td>\n",
       "      <td>0</td>\n",
       "      <td>0</td>\n",
       "      <td>1</td>\n",
       "      <td>0</td>\n",
       "      <td>0</td>\n",
       "      <td>1</td>\n",
       "      <td>0</td>\n",
       "    </tr>\n",
       "    <tr>\n",
       "      <th>1271D</th>\n",
       "      <td>play portal listedit number action mean least ...</td>\n",
       "      <td>0</td>\n",
       "      <td>1</td>\n",
       "      <td>0</td>\n",
       "      <td>1</td>\n",
       "      <td>1</td>\n",
       "      <td>0</td>\n",
       "      <td>0</td>\n",
       "      <td>0</td>\n",
       "    </tr>\n",
       "    <tr>\n",
       "      <th>1271E</th>\n",
       "      <td>number find least end question get exampl begi...</td>\n",
       "      <td>1</td>\n",
       "      <td>0</td>\n",
       "      <td>0</td>\n",
       "      <td>0</td>\n",
       "      <td>1</td>\n",
       "      <td>0</td>\n",
       "      <td>0</td>\n",
       "      <td>0</td>\n",
       "    </tr>\n",
       "    <tr>\n",
       "      <th>1271F</th>\n",
       "      <td>place given number mean possibl dont scienc co...</td>\n",
       "      <td>0</td>\n",
       "      <td>0</td>\n",
       "      <td>0</td>\n",
       "      <td>0</td>\n",
       "      <td>0</td>\n",
       "      <td>0</td>\n",
       "      <td>0</td>\n",
       "      <td>0</td>\n",
       "    </tr>\n",
       "  </tbody>\n",
       "</table>\n",
       "</div>"
      ],
      "text/plain": [
       "                                       problem_statement math datastructures  \\\n",
       "1271B  bwwwwbbb number string find examplein possibl ...    1              0   \n",
       "1271C  coincid build place number find school least e...    0              0   \n",
       "1271D  play portal listedit number action mean least ...    0              1   \n",
       "1271E  number find least end question get exampl begi...    1              0   \n",
       "1271F  place given number mean possibl dont scienc co...    0              0   \n",
       "\n",
       "      graphs greedy dp strings geometry constructivealgorithms  \n",
       "1271B      0      1  0       0        0                      0  \n",
       "1271C      0      1  0       0        1                      0  \n",
       "1271D      0      1  1       0        0                      0  \n",
       "1271E      0      0  1       0        0                      0  \n",
       "1271F      0      0  0       0        0                      0  "
      ]
     },
     "execution_count": 9,
     "metadata": {},
     "output_type": "execute_result"
    }
   ],
   "source": [
    "new_tags = [\"math\", \"datastructures\", \"graphs\",\n",
    "            \"greedy\", \"dp\", \"strings\", \"geometry\",\"constructivealgorithms\"]\n",
    "\n",
    "new_df = pd.DataFrame(index=df.index,\n",
    "                columns=[\"problem_statement\"]+new_tags)\n",
    "\n",
    "for idx in new_df.index:\n",
    "    new_df.loc[idx,\"problem_statement\"] = df.loc[idx,\"problem_statement\"]\n",
    "    for tag in new_tags:\n",
    "        if tag in df.loc[idx,\"tags\"]:\n",
    "            new_df.loc[idx,tag] = 1\n",
    "        else: \n",
    "            new_df.loc[idx,tag] = 0\n",
    "new_df.tail()\n"
   ]
  },
  {
   "cell_type": "code",
   "execution_count": 10,
   "metadata": {},
   "outputs": [
    {
     "data": {
      "image/png": "[encoded data removed]",
      "text/plain": [
       "<Figure size 432x288 with 1 Axes>"
      ]
     },
     "metadata": {
      "needs_background": "light"
     },
     "output_type": "display_data"
    },
    {
     "data": {
      "image/png": "[encoded data removed]",
      "text/plain": [
       "<Figure size 432x288 with 1 Axes>"
      ]
     },
     "metadata": {
      "needs_background": "light"
     },
     "output_type": "display_data"
    },
    {
     "data": {
      "image/png": "[encoded data removed]",
      "text/plain": [
       "<Figure size 432x288 with 1 Axes>"
      ]
     },
     "metadata": {
      "needs_background": "light"
     },
     "output_type": "display_data"
    },
    {
     "data": {
      "image/png": "[encoded data removed]",
      "text/plain": [
       "<Figure size 432x288 with 1 Axes>"
      ]
     },
     "metadata": {
      "needs_background": "light"
     },
     "output_type": "display_data"
    },
    {
     "data": {
      "image/png": "[encoded data removed]",
      "text/plain": [
       "<Figure size 432x288 with 1 Axes>"
      ]
     },
     "metadata": {
      "needs_background": "light"
     },
     "output_type": "display_data"
    },
    {
     "data": {
      "image/png": "[encoded data removed]",
      "text/plain": [
       "<Figure size 432x288 with 1 Axes>"
      ]
     },
     "metadata": {
      "needs_background": "light"
     },
     "output_type": "display_data"
    },
    {
     "data": {
      "image/png": "[encoded data removed]",
      "text/plain": [
       "<Figure size 432x288 with 1 Axes>"
      ]
     },
     "metadata": {
      "needs_background": "light"
     },
     "output_type": "display_data"
    },
    {
     "data": {
      "image/png": "[encoded data removed]",
      "text/plain": [
       "<Figure size 432x288 with 1 Axes>"
      ]
     },
     "metadata": {
      "needs_background": "light"
     },
     "output_type": "display_data"
    }
   ],
   "source": [
    "for tag in new_tags:\n",
    "    tag_df = new_df[new_df[tag]==1]\n",
    "    # historgram on math tag problems\n",
    "    samples = tag_df[\"problem_statement\"].values\n",
    "    plt.hist([len(str(s)) for s in samples], 100)\n",
    "    plt.title(tag)\n",
    "    plt.xlim(0,1000)\n",
    "    plt.xlabel(\"sample size\")\n",
    "    plt.ylabel(\"sample count\")\n",
    "    plt.show()"
   ]
  },
  {
   "cell_type": "code",
   "execution_count": 11,
   "metadata": {},
   "outputs": [
    {
     "data": {
      "text/html": [
       "<div>\n",
       "<style scoped>\n",
       "    .dataframe tbody tr th:only-of-type {\n",
       "        vertical-align: middle;\n",
       "    }\n",
       "\n",
       "    .dataframe tbody tr th {\n",
       "        vertical-align: top;\n",
       "    }\n",
       "\n",
       "    .dataframe thead th {\n",
       "        text-align: right;\n",
       "    }\n",
       "</style>\n",
       "<table border=\"1\" class=\"dataframe\">\n",
       "  <thead>\n",
       "    <tr style=\"text-align: right;\">\n",
       "      <th></th>\n",
       "      <th>0</th>\n",
       "      <th>1</th>\n",
       "    </tr>\n",
       "  </thead>\n",
       "  <tbody>\n",
       "    <tr>\n",
       "      <th>math</th>\n",
       "      <td>5813</td>\n",
       "      <td>2027</td>\n",
       "    </tr>\n",
       "    <tr>\n",
       "      <th>datastructures</th>\n",
       "      <td>6550</td>\n",
       "      <td>1290</td>\n",
       "    </tr>\n",
       "    <tr>\n",
       "      <th>graphs</th>\n",
       "      <td>6941</td>\n",
       "      <td>899</td>\n",
       "    </tr>\n",
       "    <tr>\n",
       "      <th>greedy</th>\n",
       "      <td>5890</td>\n",
       "      <td>1950</td>\n",
       "    </tr>\n",
       "    <tr>\n",
       "      <th>dp</th>\n",
       "      <td>6168</td>\n",
       "      <td>1672</td>\n",
       "    </tr>\n",
       "    <tr>\n",
       "      <th>strings</th>\n",
       "      <td>7268</td>\n",
       "      <td>572</td>\n",
       "    </tr>\n",
       "    <tr>\n",
       "      <th>geometry</th>\n",
       "      <td>7497</td>\n",
       "      <td>343</td>\n",
       "    </tr>\n",
       "    <tr>\n",
       "      <th>constructivealgorithms</th>\n",
       "      <td>6659</td>\n",
       "      <td>1181</td>\n",
       "    </tr>\n",
       "  </tbody>\n",
       "</table>\n",
       "</div>"
      ],
      "text/plain": [
       "                           0     1\n",
       "math                    5813  2027\n",
       "datastructures          6550  1290\n",
       "graphs                  6941   899\n",
       "greedy                  5890  1950\n",
       "dp                      6168  1672\n",
       "strings                 7268   572\n",
       "geometry                7497   343\n",
       "constructivealgorithms  6659  1181"
      ]
     },
     "metadata": {},
     "output_type": "display_data"
    },
    {
     "data": {
      "image/png": "[encoded data removed]",
      "text/plain": [
       "<Figure size 432x288 with 1 Axes>"
      ]
     },
     "metadata": {
      "needs_background": "light"
     },
     "output_type": "display_data"
    }
   ],
   "source": [
    "# 각각에 대해서 0인지1인지 count하는거\n",
    "barplot_df = pd.DataFrame(index=new_tags, columns=['0','1'])\n",
    "for tag in new_tags:\n",
    "    barplot_df.loc[tag,\"0\"] = list(new_df.loc[:,tag]).count(0)\n",
    "    barplot_df.loc[tag,\"1\"] = list(new_df.loc[:,tag]).count(1)\n",
    "barplot_df.plot.barh(stacked=False)\n",
    "display(barplot_df)"
   ]
  },
  {
   "cell_type": "markdown",
   "metadata": {},
   "source": [
    "## Train test split"
   ]
  },
  {
   "cell_type": "code",
   "execution_count": 12,
   "metadata": {},
   "outputs": [
    {
     "name": "stdout",
     "output_type": "stream",
     "text": [
      "(6272, 9) (1568, 9)\n"
     ]
    },
    {
     "data": {
      "text/html": [
       "<div>\n",
       "<style scoped>\n",
       "    .dataframe tbody tr th:only-of-type {\n",
       "        vertical-align: middle;\n",
       "    }\n",
       "\n",
       "    .dataframe tbody tr th {\n",
       "        vertical-align: top;\n",
       "    }\n",
       "\n",
       "    .dataframe thead th {\n",
       "        text-align: right;\n",
       "    }\n",
       "</style>\n",
       "<table border=\"1\" class=\"dataframe\">\n",
       "  <thead>\n",
       "    <tr style=\"text-align: right;\">\n",
       "      <th></th>\n",
       "      <th>problem_statement</th>\n",
       "      <th>math</th>\n",
       "      <th>datastructures</th>\n",
       "      <th>graphs</th>\n",
       "      <th>greedy</th>\n",
       "      <th>dp</th>\n",
       "      <th>strings</th>\n",
       "      <th>geometry</th>\n",
       "      <th>constructivealgorithms</th>\n",
       "    </tr>\n",
       "  </thead>\n",
       "  <tbody>\n",
       "    <tr>\n",
       "      <th>990C</th>\n",
       "      <td>exceed second given number string insert oper ...</td>\n",
       "      <td>0</td>\n",
       "      <td>0</td>\n",
       "      <td>0</td>\n",
       "      <td>0</td>\n",
       "      <td>0</td>\n",
       "      <td>0</td>\n",
       "      <td>0</td>\n",
       "      <td>0</td>\n",
       "    </tr>\n",
       "    <tr>\n",
       "      <th>1154C</th>\n",
       "      <td>number possibl three rabbit eatenin one exampl...</td>\n",
       "      <td>1</td>\n",
       "      <td>0</td>\n",
       "      <td>0</td>\n",
       "      <td>0</td>\n",
       "      <td>0</td>\n",
       "      <td>0</td>\n",
       "      <td>0</td>\n",
       "      <td>0</td>\n",
       "    </tr>\n",
       "    <tr>\n",
       "      <th>339C</th>\n",
       "      <td>specifi play given number string consist help ...</td>\n",
       "      <td>0</td>\n",
       "      <td>0</td>\n",
       "      <td>1</td>\n",
       "      <td>1</td>\n",
       "      <td>1</td>\n",
       "      <td>0</td>\n",
       "      <td>0</td>\n",
       "      <td>1</td>\n",
       "    </tr>\n",
       "    <tr>\n",
       "      <th>909D</th>\n",
       "      <td>given number string leftmost dont arrang singl...</td>\n",
       "      <td>0</td>\n",
       "      <td>1</td>\n",
       "      <td>0</td>\n",
       "      <td>1</td>\n",
       "      <td>0</td>\n",
       "      <td>0</td>\n",
       "      <td>0</td>\n",
       "      <td>0</td>\n",
       "    </tr>\n",
       "    <tr>\n",
       "      <th>582E</th>\n",
       "      <td>given number mean element boolean also corresp...</td>\n",
       "      <td>0</td>\n",
       "      <td>0</td>\n",
       "      <td>0</td>\n",
       "      <td>0</td>\n",
       "      <td>1</td>\n",
       "      <td>0</td>\n",
       "      <td>0</td>\n",
       "      <td>0</td>\n",
       "    </tr>\n",
       "  </tbody>\n",
       "</table>\n",
       "</div>"
      ],
      "text/plain": [
       "                                       problem_statement math datastructures  \\\n",
       "990C   exceed second given number string insert oper ...    0              0   \n",
       "1154C  number possibl three rabbit eatenin one exampl...    1              0   \n",
       "339C   specifi play given number string consist help ...    0              0   \n",
       "909D   given number string leftmost dont arrang singl...    0              1   \n",
       "582E   given number mean element boolean also corresp...    0              0   \n",
       "\n",
       "      graphs greedy dp strings geometry constructivealgorithms  \n",
       "990C       0      0  0       0        0                      0  \n",
       "1154C      0      0  0       0        0                      0  \n",
       "339C       1      1  1       0        0                      1  \n",
       "909D       0      1  0       0        0                      0  \n",
       "582E       0      0  1       0        0                      0  "
      ]
     },
     "execution_count": 12,
     "metadata": {},
     "output_type": "execute_result"
    }
   ],
   "source": [
    "# train test split\n",
    "from sklearn.model_selection import train_test_split\n",
    "train, test = train_test_split(\n",
    "    new_df, test_size=0.2, random_state=config.SEED)\n",
    "print(train.shape, test.shape)\n",
    "\n",
    "train.to_pickle(config.TRAIN)\n",
    "test.to_pickle(config.TEST)\n",
    "train.tail()"
   ]
  }
 ],
 "metadata": {
  "kernelspec": {
   "display_name": "Python 3.8.10 64-bit",
   "language": "python",
   "name": "python3"
  },
  "language_info": {
   "codemirror_mode": {
    "name": "ipython",
    "version": 3
   },
   "file_extension": ".py",
   "mimetype": "text/x-python",
   "name": "python",
   "nbconvert_exporter": "python",
   "pygments_lexer": "ipython3",
   "version": "3.8.10"
  },
  "orig_nbformat": 4,
  "vscode": {
   "interpreter": {
    "hash": "916dbcbb3f70747c44a77c7bcd40155683ae19c65e1c03b4aa3499c5328201f1"
   }
  }
 },
 "nbformat": 4,
 "nbformat_minor": 2
}
