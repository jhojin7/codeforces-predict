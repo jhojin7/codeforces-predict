{
 "cells": [
  {
   "cell_type": "markdown",
   "metadata": {},
   "source": [
    "## Imports"
   ]
  },
  {
   "cell_type": "code",
   "execution_count": 1,
   "metadata": {},
   "outputs": [
    {
     "data": {
      "text/html": [
       "<div>\n",
       "<style scoped>\n",
       "    .dataframe tbody tr th:only-of-type {\n",
       "        vertical-align: middle;\n",
       "    }\n",
       "\n",
       "    .dataframe tbody tr th {\n",
       "        vertical-align: top;\n",
       "    }\n",
       "\n",
       "    .dataframe thead th {\n",
       "        text-align: right;\n",
       "    }\n",
       "</style>\n",
       "<table border=\"1\" class=\"dataframe\">\n",
       "  <thead>\n",
       "    <tr style=\"text-align: right;\">\n",
       "      <th></th>\n",
       "      <th>problem_statement</th>\n",
       "      <th>tags</th>\n",
       "    </tr>\n",
       "  </thead>\n",
       "  <tbody>\n",
       "    <tr>\n",
       "      <th>count</th>\n",
       "      <td>8272</td>\n",
       "      <td>8272</td>\n",
       "    </tr>\n",
       "    <tr>\n",
       "      <th>unique</th>\n",
       "      <td>6766</td>\n",
       "      <td>4786</td>\n",
       "    </tr>\n",
       "    <tr>\n",
       "      <th>top</th>\n",
       "      <td>The Smart Beaver from ABBYY came up with anoth...</td>\n",
       "      <td>implementation,*800</td>\n",
       "    </tr>\n",
       "    <tr>\n",
       "      <th>freq</th>\n",
       "      <td>20</td>\n",
       "      <td>109</td>\n",
       "    </tr>\n",
       "  </tbody>\n",
       "</table>\n",
       "</div>"
      ],
      "text/plain": [
       "                                        problem_statement                 tags\n",
       "count                                                8272                 8272\n",
       "unique                                               6766                 4786\n",
       "top     The Smart Beaver from ABBYY came up with anoth...  implementation,*800\n",
       "freq                                                   20                  109"
      ]
     },
     "metadata": {},
     "output_type": "display_data"
    },
    {
     "data": {
      "text/html": [
       "<div>\n",
       "<style scoped>\n",
       "    .dataframe tbody tr th:only-of-type {\n",
       "        vertical-align: middle;\n",
       "    }\n",
       "\n",
       "    .dataframe tbody tr th {\n",
       "        vertical-align: top;\n",
       "    }\n",
       "\n",
       "    .dataframe thead th {\n",
       "        text-align: right;\n",
       "    }\n",
       "</style>\n",
       "<table border=\"1\" class=\"dataframe\">\n",
       "  <thead>\n",
       "    <tr style=\"text-align: right;\">\n",
       "      <th></th>\n",
       "      <th>problem_statement</th>\n",
       "      <th>tags</th>\n",
       "    </tr>\n",
       "  </thead>\n",
       "  <tbody>\n",
       "    <tr>\n",
       "      <th>1271B</th>\n",
       "      <td>There are $$$n$$$ blocks arranged in a row and...</td>\n",
       "      <td>greedy,math,*1300</td>\n",
       "    </tr>\n",
       "    <tr>\n",
       "      <th>1271C</th>\n",
       "      <td>The map of the capital of Berland can be viewe...</td>\n",
       "      <td>bruteforce,geometry,greedy,implementation,*1300</td>\n",
       "    </tr>\n",
       "    <tr>\n",
       "      <th>1271D</th>\n",
       "      <td>You play a strategic video game (yeah, we ran ...</td>\n",
       "      <td>datastructures,dp,greedy,implementation,sortin...</td>\n",
       "    </tr>\n",
       "    <tr>\n",
       "      <th>1271E</th>\n",
       "      <td>At first, let's define function $$$f(x)$$$ as ...</td>\n",
       "      <td>binarysearch,combinatorics,dp,math,*2100</td>\n",
       "    </tr>\n",
       "    <tr>\n",
       "      <th>1271F</th>\n",
       "      <td>Recently a lot of students were enrolled in Be...</td>\n",
       "      <td>bruteforce,*2700</td>\n",
       "    </tr>\n",
       "  </tbody>\n",
       "</table>\n",
       "</div>"
      ],
      "text/plain": [
       "                                       problem_statement  \\\n",
       "1271B  There are $$$n$$$ blocks arranged in a row and...   \n",
       "1271C  The map of the capital of Berland can be viewe...   \n",
       "1271D  You play a strategic video game (yeah, we ran ...   \n",
       "1271E  At first, let's define function $$$f(x)$$$ as ...   \n",
       "1271F  Recently a lot of students were enrolled in Be...   \n",
       "\n",
       "                                                    tags  \n",
       "1271B                                  greedy,math,*1300  \n",
       "1271C    bruteforce,geometry,greedy,implementation,*1300  \n",
       "1271D  datastructures,dp,greedy,implementation,sortin...  \n",
       "1271E           binarysearch,combinatorics,dp,math,*2100  \n",
       "1271F                                   bruteforce,*2700  "
      ]
     },
     "metadata": {},
     "output_type": "display_data"
    },
    {
     "name": "stdout",
     "output_type": "stream",
     "text": [
      "<class 'pandas.core.frame.DataFrame'>\n",
      "Index: 8272 entries, 325A to 1271F\n",
      "Data columns (total 2 columns):\n",
      " #   Column             Non-Null Count  Dtype \n",
      "---  ------             --------------  ----- \n",
      " 0   problem_statement  8272 non-null   object\n",
      " 1   tags               8272 non-null   object\n",
      "dtypes: object(2)\n",
      "memory usage: 193.9+ KB\n"
     ]
    },
    {
     "data": {
      "text/plain": [
       "None"
      ]
     },
     "metadata": {},
     "output_type": "display_data"
    }
   ],
   "source": [
    "import collections\n",
    "import numpy as np\n",
    "import pandas as pd\n",
    "import matplotlib.pyplot as plt\n",
    "import config\n",
    "np.random.seed(config.SEED)\n",
    "\n",
    "# read data\n",
    "df = pd.read_csv(config.DATA_CSV)\n",
    "# create index. {contest}{problem} format\n",
    "df.index = df[\"contest\"].astype(str)+df[\"problem_name\"]\n",
    "# keep only problem_statement, tags\n",
    "df = df[[\"problem_statement\",\"problem_tags\"]]\n",
    "df.columns = [\"problem_statement\",\"tags\"]\n",
    "\n",
    "df = df.dropna(axis=0)\n",
    "display(df.describe())\n",
    "display(df.tail())\n",
    "display(df.info())"
   ]
  },
  {
   "cell_type": "markdown",
   "metadata": {},
   "source": [
    "## problem_statement"
   ]
  },
  {
   "cell_type": "code",
   "execution_count": 2,
   "metadata": {},
   "outputs": [
    {
     "data": {
      "text/plain": [
       "count                                                  8272\n",
       "unique                                                 6766\n",
       "top       The Smart Beaver from ABBYY came up with anoth...\n",
       "freq                                                     20\n",
       "Name: problem_statement, dtype: object"
      ]
     },
     "execution_count": 2,
     "metadata": {},
     "output_type": "execute_result"
    }
   ],
   "source": [
    "df[\"problem_statement\"].describe()"
   ]
  },
  {
   "cell_type": "code",
   "execution_count": 3,
   "metadata": {},
   "outputs": [
    {
     "name": "stdout",
     "output_type": "stream",
     "text": [
      "input length n1soroush celebr area complet consist soroush completelyth bought number side squar allow cover fine rotat put site sorush contest persian carpet three write 100th befor yes want singl room favorit integ onli\n",
      "*specialproblem,implementation,*1100\n"
     ]
    },
    {
     "data": {
      "text/plain": [
       "325A     xcoordin parallel edg top two one touch yes pr...\n",
       "325B     would possibl initi one game print line format...\n",
       "325C     way possibl initi posit pie finit two one prin...\n",
       "325D     way would consist share formal seaon possibl i...\n",
       "325E     red order exact consist chang ani button circu...\n",
       "                               ...                        \n",
       "1271B    consist possibl white string arrang posit itth...\n",
       "1271C    class consist street possibl infinit tent para...\n",
       "1271D    way scorein yeah formal paramet later afterwar...\n",
       "1271E    frac formal question text two process find pri...\n",
       "1271F    class consist possibl educ skip enrol subject ...\n",
       "Name: problem_statement, Length: 8272, dtype: object"
      ]
     },
     "execution_count": 3,
     "metadata": {},
     "output_type": "execute_result"
    }
   ],
   "source": [
    "from preprocess import preprocess_text\n",
    "\n",
    "text = df.loc[\"100A\",\"problem_statement\"]\n",
    "print(preprocess_text(text))\n",
    "print(df.loc[\"100A\",\"tags\"])\n",
    "\n",
    "df[\"problem_statement\"] = \\\n",
    "    df[\"problem_statement\"].apply(lambda x:preprocess_text(str(x)))\n",
    "\n",
    "df[\"problem_statement\"]"
   ]
  },
  {
   "cell_type": "code",
   "execution_count": 4,
   "metadata": {},
   "outputs": [
    {
     "data": {
      "image/png": "[encoded data removed]",
      "text/plain": [
       "<Figure size 432x288 with 1 Axes>"
      ]
     },
     "metadata": {
      "needs_background": "light"
     },
     "output_type": "display_data"
    }
   ],
   "source": [
    "# historgram on text data size\n",
    "samples = df[\"problem_statement\"].values\n",
    "plt.hist([len(str(s)) for s in samples], 100)\n",
    "plt.xlim(0,1100)\n",
    "plt.xlabel(\"sample size\")\n",
    "plt.ylabel(\"sample count\")\n",
    "plt.show()"
   ]
  },
  {
   "cell_type": "code",
   "execution_count": 5,
   "metadata": {},
   "outputs": [],
   "source": [
    "# drop any problems not 100<=len<=1000\n",
    "for idx in df.index:\n",
    "    l = len(str(df.loc[idx,\"problem_statement\"]))\n",
    "    if not 100<=l<=1000: df.drop(index=idx, inplace=True)"
   ]
  },
  {
   "cell_type": "code",
   "execution_count": 6,
   "metadata": {},
   "outputs": [
    {
     "data": {
      "image/png": "[encoded data removed]",
      "text/plain": [
       "<Figure size 432x288 with 1 Axes>"
      ]
     },
     "metadata": {
      "needs_background": "light"
     },
     "output_type": "display_data"
    }
   ],
   "source": [
    "# historgram on text data size\n",
    "samples = df[\"problem_statement\"].values\n",
    "plt.hist([len(str(s)) for s in samples], 100)\n",
    "plt.xlim(0,1100)\n",
    "plt.xlabel(\"sample size\")\n",
    "plt.ylabel(\"sample count\")\n",
    "plt.show()"
   ]
  },
  {
   "cell_type": "code",
   "execution_count": 7,
   "metadata": {},
   "outputs": [
    {
     "data": {
      "text/html": [
       "<div>\n",
       "<style scoped>\n",
       "    .dataframe tbody tr th:only-of-type {\n",
       "        vertical-align: middle;\n",
       "    }\n",
       "\n",
       "    .dataframe tbody tr th {\n",
       "        vertical-align: top;\n",
       "    }\n",
       "\n",
       "    .dataframe thead th {\n",
       "        text-align: right;\n",
       "    }\n",
       "</style>\n",
       "<table border=\"1\" class=\"dataframe\">\n",
       "  <thead>\n",
       "    <tr style=\"text-align: right;\">\n",
       "      <th></th>\n",
       "      <th>problem_statement</th>\n",
       "      <th>tags</th>\n",
       "    </tr>\n",
       "  </thead>\n",
       "  <tbody>\n",
       "    <tr>\n",
       "      <th>count</th>\n",
       "      <td>8126</td>\n",
       "      <td>8126</td>\n",
       "    </tr>\n",
       "    <tr>\n",
       "      <th>unique</th>\n",
       "      <td>6625</td>\n",
       "      <td>4740</td>\n",
       "    </tr>\n",
       "    <tr>\n",
       "      <th>top</th>\n",
       "      <td>identifi name text setprint train inform physi...</td>\n",
       "      <td>implementation,*800</td>\n",
       "    </tr>\n",
       "    <tr>\n",
       "      <th>freq</th>\n",
       "      <td>20</td>\n",
       "      <td>108</td>\n",
       "    </tr>\n",
       "  </tbody>\n",
       "</table>\n",
       "</div>"
      ],
      "text/plain": [
       "                                        problem_statement                 tags\n",
       "count                                                8126                 8126\n",
       "unique                                               6625                 4740\n",
       "top     identifi name text setprint train inform physi...  implementation,*800\n",
       "freq                                                   20                  108"
      ]
     },
     "execution_count": 7,
     "metadata": {},
     "output_type": "execute_result"
    }
   ],
   "source": [
    "df.describe()"
   ]
  },
  {
   "cell_type": "markdown",
   "metadata": {},
   "source": [
    "## Tags"
   ]
  },
  {
   "cell_type": "code",
   "execution_count": 8,
   "metadata": {},
   "outputs": [
    {
     "data": {
      "text/plain": [
       "count                    8126\n",
       "unique                   4740\n",
       "top       implementation,*800\n",
       "freq                      108\n",
       "Name: tags, dtype: object"
      ]
     },
     "execution_count": 8,
     "metadata": {},
     "output_type": "execute_result"
    }
   ],
   "source": [
    "df[\"tags\"].describe()"
   ]
  },
  {
   "cell_type": "code",
   "execution_count": 9,
   "metadata": {},
   "outputs": [
    {
     "data": {
      "text/html": [
       "<div>\n",
       "<style scoped>\n",
       "    .dataframe tbody tr th:only-of-type {\n",
       "        vertical-align: middle;\n",
       "    }\n",
       "\n",
       "    .dataframe tbody tr th {\n",
       "        vertical-align: top;\n",
       "    }\n",
       "\n",
       "    .dataframe thead th {\n",
       "        text-align: right;\n",
       "    }\n",
       "</style>\n",
       "<table border=\"1\" class=\"dataframe\">\n",
       "  <thead>\n",
       "    <tr style=\"text-align: right;\">\n",
       "      <th></th>\n",
       "      <th>problem_statement</th>\n",
       "      <th>tags</th>\n",
       "    </tr>\n",
       "  </thead>\n",
       "  <tbody>\n",
       "    <tr>\n",
       "      <th>1271B</th>\n",
       "      <td>consist possibl white string arrang posit itth...</td>\n",
       "      <td>[greedy, math]</td>\n",
       "    </tr>\n",
       "    <tr>\n",
       "      <th>1271C</th>\n",
       "      <td>class consist street possibl infinit tent para...</td>\n",
       "      <td>[bruteforce, geometry, greedy, implementation]</td>\n",
       "    </tr>\n",
       "    <tr>\n",
       "      <th>1271D</th>\n",
       "      <td>way scorein yeah formal paramet later afterwar...</td>\n",
       "      <td>[datastructures, dp, greedy, implementation, s...</td>\n",
       "    </tr>\n",
       "    <tr>\n",
       "      <th>1271E</th>\n",
       "      <td>frac formal question text two process find pri...</td>\n",
       "      <td>[binarysearch, combinatorics, dp, math]</td>\n",
       "    </tr>\n",
       "    <tr>\n",
       "      <th>1271F</th>\n",
       "      <td>class consist possibl educ skip enrol subject ...</td>\n",
       "      <td>[bruteforce]</td>\n",
       "    </tr>\n",
       "  </tbody>\n",
       "</table>\n",
       "</div>"
      ],
      "text/plain": [
       "                                       problem_statement  \\\n",
       "1271B  consist possibl white string arrang posit itth...   \n",
       "1271C  class consist street possibl infinit tent para...   \n",
       "1271D  way scorein yeah formal paramet later afterwar...   \n",
       "1271E  frac formal question text two process find pri...   \n",
       "1271F  class consist possibl educ skip enrol subject ...   \n",
       "\n",
       "                                                    tags  \n",
       "1271B                                     [greedy, math]  \n",
       "1271C     [bruteforce, geometry, greedy, implementation]  \n",
       "1271D  [datastructures, dp, greedy, implementation, s...  \n",
       "1271E            [binarysearch, combinatorics, dp, math]  \n",
       "1271F                                       [bruteforce]  "
      ]
     },
     "execution_count": 9,
     "metadata": {},
     "output_type": "execute_result"
    }
   ],
   "source": [
    "from preprocess import clean_tags_column\n",
    "df[\"tags\"]=df[\"tags\"].apply(clean_tags_column)\n",
    "df = df[df.tags.str.len()>=1]\n",
    "df.tail()"
   ]
  },
  {
   "cell_type": "code",
   "execution_count": 10,
   "metadata": {},
   "outputs": [
    {
     "name": "stdout",
     "output_type": "stream",
     "text": [
      "implementation            2201\n",
      "math                      1995\n",
      "greedy                    1937\n",
      "dp                        1667\n",
      "datastructures            1287\n",
      "constructivealgorithms    1166\n",
      "bruteforce                1163\n",
      "graphs                     895\n",
      "binarysearch               779\n",
      "sortings                   756\n",
      "Name: tags, dtype: int64\n"
     ]
    },
    {
     "data": {
      "image/png": "[encoded data removed]",
      "text/plain": [
       "<Figure size 720x288 with 1 Axes>"
      ]
     },
     "metadata": {
      "needs_background": "light"
     },
     "output_type": "display_data"
    }
   ],
   "source": [
    "# tag stats\n",
    "tag_stats = df[\"tags\"].explode().value_counts()\n",
    "tag_stats.plot(kind=\"bar\", figsize=(10,4))\n",
    "print(tag_stats.head(10))"
   ]
  },
  {
   "cell_type": "code",
   "execution_count": 11,
   "metadata": {},
   "outputs": [
    {
     "data": {
      "text/html": [
       "<div>\n",
       "<style scoped>\n",
       "    .dataframe tbody tr th:only-of-type {\n",
       "        vertical-align: middle;\n",
       "    }\n",
       "\n",
       "    .dataframe tbody tr th {\n",
       "        vertical-align: top;\n",
       "    }\n",
       "\n",
       "    .dataframe thead th {\n",
       "        text-align: right;\n",
       "    }\n",
       "</style>\n",
       "<table border=\"1\" class=\"dataframe\">\n",
       "  <thead>\n",
       "    <tr style=\"text-align: right;\">\n",
       "      <th></th>\n",
       "      <th>problem_statement</th>\n",
       "      <th>tags</th>\n",
       "    </tr>\n",
       "  </thead>\n",
       "  <tbody>\n",
       "    <tr>\n",
       "      <th>1271B</th>\n",
       "      <td>consist possibl white string arrang posit itth...</td>\n",
       "      <td>[greedy, math]</td>\n",
       "    </tr>\n",
       "    <tr>\n",
       "      <th>1271C</th>\n",
       "      <td>class consist street possibl infinit tent para...</td>\n",
       "      <td>[bruteforce, geometry, greedy, implementation]</td>\n",
       "    </tr>\n",
       "    <tr>\n",
       "      <th>1271D</th>\n",
       "      <td>way scorein yeah formal paramet later afterwar...</td>\n",
       "      <td>[datastructures, dp, greedy, implementation, s...</td>\n",
       "    </tr>\n",
       "    <tr>\n",
       "      <th>1271E</th>\n",
       "      <td>frac formal question text two process find pri...</td>\n",
       "      <td>[binarysearch, combinatorics, dp, math]</td>\n",
       "    </tr>\n",
       "    <tr>\n",
       "      <th>1271F</th>\n",
       "      <td>class consist possibl educ skip enrol subject ...</td>\n",
       "      <td>[bruteforce]</td>\n",
       "    </tr>\n",
       "  </tbody>\n",
       "</table>\n",
       "</div>"
      ],
      "text/plain": [
       "                                       problem_statement  \\\n",
       "1271B  consist possibl white string arrang posit itth...   \n",
       "1271C  class consist street possibl infinit tent para...   \n",
       "1271D  way scorein yeah formal paramet later afterwar...   \n",
       "1271E  frac formal question text two process find pri...   \n",
       "1271F  class consist possibl educ skip enrol subject ...   \n",
       "\n",
       "                                                    tags  \n",
       "1271B                                     [greedy, math]  \n",
       "1271C     [bruteforce, geometry, greedy, implementation]  \n",
       "1271D  [datastructures, dp, greedy, implementation, s...  \n",
       "1271E            [binarysearch, combinatorics, dp, math]  \n",
       "1271F                                       [bruteforce]  "
      ]
     },
     "execution_count": 11,
     "metadata": {},
     "output_type": "execute_result"
    }
   ],
   "source": [
    "df.tail()"
   ]
  },
  {
   "cell_type": "markdown",
   "metadata": {},
   "source": [
    "## 특정 태그들에 대해서만 EDA"
   ]
  },
  {
   "cell_type": "code",
   "execution_count": 12,
   "metadata": {},
   "outputs": [
    {
     "data": {
      "text/html": [
       "<div>\n",
       "<style scoped>\n",
       "    .dataframe tbody tr th:only-of-type {\n",
       "        vertical-align: middle;\n",
       "    }\n",
       "\n",
       "    .dataframe tbody tr th {\n",
       "        vertical-align: top;\n",
       "    }\n",
       "\n",
       "    .dataframe thead th {\n",
       "        text-align: right;\n",
       "    }\n",
       "</style>\n",
       "<table border=\"1\" class=\"dataframe\">\n",
       "  <thead>\n",
       "    <tr style=\"text-align: right;\">\n",
       "      <th></th>\n",
       "      <th>problem_statement</th>\n",
       "      <th>implementation</th>\n",
       "      <th>math</th>\n",
       "      <th>greedy</th>\n",
       "      <th>dp</th>\n",
       "      <th>datastructures</th>\n",
       "      <th>bruteforce</th>\n",
       "      <th>graphs</th>\n",
       "      <th>strings</th>\n",
       "      <th>dfsandsimilar</th>\n",
       "      <th>trees</th>\n",
       "      <th>geometry</th>\n",
       "    </tr>\n",
       "  </thead>\n",
       "  <tbody>\n",
       "    <tr>\n",
       "      <th>1271B</th>\n",
       "      <td>consist possibl white string arrang posit itth...</td>\n",
       "      <td>0</td>\n",
       "      <td>1</td>\n",
       "      <td>1</td>\n",
       "      <td>0</td>\n",
       "      <td>0</td>\n",
       "      <td>0</td>\n",
       "      <td>0</td>\n",
       "      <td>0</td>\n",
       "      <td>0</td>\n",
       "      <td>0</td>\n",
       "      <td>0</td>\n",
       "    </tr>\n",
       "    <tr>\n",
       "      <th>1271C</th>\n",
       "      <td>class consist street possibl infinit tent para...</td>\n",
       "      <td>1</td>\n",
       "      <td>0</td>\n",
       "      <td>1</td>\n",
       "      <td>0</td>\n",
       "      <td>0</td>\n",
       "      <td>1</td>\n",
       "      <td>0</td>\n",
       "      <td>0</td>\n",
       "      <td>0</td>\n",
       "      <td>0</td>\n",
       "      <td>1</td>\n",
       "    </tr>\n",
       "    <tr>\n",
       "      <th>1271D</th>\n",
       "      <td>way scorein yeah formal paramet later afterwar...</td>\n",
       "      <td>1</td>\n",
       "      <td>0</td>\n",
       "      <td>1</td>\n",
       "      <td>1</td>\n",
       "      <td>1</td>\n",
       "      <td>0</td>\n",
       "      <td>0</td>\n",
       "      <td>0</td>\n",
       "      <td>0</td>\n",
       "      <td>0</td>\n",
       "      <td>0</td>\n",
       "    </tr>\n",
       "    <tr>\n",
       "      <th>1271E</th>\n",
       "      <td>frac formal question text two process find pri...</td>\n",
       "      <td>0</td>\n",
       "      <td>1</td>\n",
       "      <td>0</td>\n",
       "      <td>1</td>\n",
       "      <td>0</td>\n",
       "      <td>0</td>\n",
       "      <td>0</td>\n",
       "      <td>0</td>\n",
       "      <td>0</td>\n",
       "      <td>0</td>\n",
       "      <td>0</td>\n",
       "    </tr>\n",
       "    <tr>\n",
       "      <th>1271F</th>\n",
       "      <td>class consist possibl educ skip enrol subject ...</td>\n",
       "      <td>0</td>\n",
       "      <td>0</td>\n",
       "      <td>0</td>\n",
       "      <td>0</td>\n",
       "      <td>0</td>\n",
       "      <td>1</td>\n",
       "      <td>0</td>\n",
       "      <td>0</td>\n",
       "      <td>0</td>\n",
       "      <td>0</td>\n",
       "      <td>0</td>\n",
       "    </tr>\n",
       "  </tbody>\n",
       "</table>\n",
       "</div>"
      ],
      "text/plain": [
       "                                       problem_statement implementation math  \\\n",
       "1271B  consist possibl white string arrang posit itth...              0    1   \n",
       "1271C  class consist street possibl infinit tent para...              1    0   \n",
       "1271D  way scorein yeah formal paramet later afterwar...              1    0   \n",
       "1271E  frac formal question text two process find pri...              0    1   \n",
       "1271F  class consist possibl educ skip enrol subject ...              0    0   \n",
       "\n",
       "      greedy dp datastructures bruteforce graphs strings dfsandsimilar trees  \\\n",
       "1271B      1  0              0          0      0       0             0     0   \n",
       "1271C      1  0              0          1      0       0             0     0   \n",
       "1271D      1  1              1          0      0       0             0     0   \n",
       "1271E      0  1              0          0      0       0             0     0   \n",
       "1271F      0  0              0          1      0       0             0     0   \n",
       "\n",
       "      geometry  \n",
       "1271B        0  \n",
       "1271C        1  \n",
       "1271D        0  \n",
       "1271E        0  \n",
       "1271F        0  "
      ]
     },
     "execution_count": 12,
     "metadata": {},
     "output_type": "execute_result"
    }
   ],
   "source": [
    "new_tags = [\"implementation\",\"math\",\"greedy\",\"dp\",\"datastructures\",\"bruteforce\",\n",
    "            \"graphs\",\"strings\",\"dfsandsimilar\",\"trees\",\"geometry\"]\n",
    "\n",
    "new_df = pd.DataFrame(index=df.index,\n",
    "                columns=[\"problem_statement\"]+new_tags)\n",
    "\n",
    "for idx in new_df.index:\n",
    "    new_df.loc[idx,\"problem_statement\"] = df.loc[idx,\"problem_statement\"]\n",
    "    for tag in new_tags:\n",
    "        if tag in df.loc[idx,\"tags\"]:\n",
    "            new_df.loc[idx,tag] = 1\n",
    "        else: \n",
    "            new_df.loc[idx,tag] = 0\n",
    "new_df.tail()"
   ]
  },
  {
   "cell_type": "code",
   "execution_count": 13,
   "metadata": {},
   "outputs": [
    {
     "data": {
      "text/plain": [
       "<AxesSubplot:>"
      ]
     },
     "execution_count": 13,
     "metadata": {},
     "output_type": "execute_result"
    },
    {
     "data": {
      "image/png": "[encoded data removed]",
      "text/plain": [
       "<Figure size 432x288 with 1 Axes>"
      ]
     },
     "metadata": {
      "needs_background": "light"
     },
     "output_type": "display_data"
    }
   ],
   "source": [
    "barplot_df = pd.DataFrame(index=new_tags, columns=['0','1'])\n",
    "for tag in new_tags:\n",
    "    barplot_df.loc[tag,\"0\"] = list(new_df.loc[:,tag]).count(0)\n",
    "    barplot_df.loc[tag,\"1\"] = list(new_df.loc[:,tag]).count(1)\n",
    "barplot_df.plot.barh(stacked=True)"
   ]
  },
  {
   "cell_type": "markdown",
   "metadata": {},
   "source": [
    "## Train test split"
   ]
  },
  {
   "cell_type": "code",
   "execution_count": 14,
   "metadata": {},
   "outputs": [
    {
     "name": "stdout",
     "output_type": "stream",
     "text": [
      "(6143, 12) (1536, 12)\n"
     ]
    },
    {
     "data": {
      "text/html": [
       "<div>\n",
       "<style scoped>\n",
       "    .dataframe tbody tr th:only-of-type {\n",
       "        vertical-align: middle;\n",
       "    }\n",
       "\n",
       "    .dataframe tbody tr th {\n",
       "        vertical-align: top;\n",
       "    }\n",
       "\n",
       "    .dataframe thead th {\n",
       "        text-align: right;\n",
       "    }\n",
       "</style>\n",
       "<table border=\"1\" class=\"dataframe\">\n",
       "  <thead>\n",
       "    <tr style=\"text-align: right;\">\n",
       "      <th></th>\n",
       "      <th>problem_statement</th>\n",
       "      <th>implementation</th>\n",
       "      <th>math</th>\n",
       "      <th>greedy</th>\n",
       "      <th>dp</th>\n",
       "      <th>datastructures</th>\n",
       "      <th>bruteforce</th>\n",
       "      <th>graphs</th>\n",
       "      <th>strings</th>\n",
       "      <th>dfsandsimilar</th>\n",
       "      <th>trees</th>\n",
       "      <th>geometry</th>\n",
       "    </tr>\n",
       "  </thead>\n",
       "  <tbody>\n",
       "    <tr>\n",
       "      <th>1034D</th>\n",
       "      <td>length exact second union calcul help getfor s...</td>\n",
       "      <td>0</td>\n",
       "      <td>0</td>\n",
       "      <td>0</td>\n",
       "      <td>0</td>\n",
       "      <td>1</td>\n",
       "      <td>0</td>\n",
       "      <td>0</td>\n",
       "      <td>0</td>\n",
       "      <td>0</td>\n",
       "      <td>0</td>\n",
       "      <td>0</td>\n",
       "    </tr>\n",
       "    <tr>\n",
       "      <th>1166D</th>\n",
       "      <td>valid hold consist possibl satisfi posit itth ...</td>\n",
       "      <td>0</td>\n",
       "      <td>1</td>\n",
       "      <td>1</td>\n",
       "      <td>0</td>\n",
       "      <td>0</td>\n",
       "      <td>1</td>\n",
       "      <td>0</td>\n",
       "      <td>0</td>\n",
       "      <td>0</td>\n",
       "      <td>0</td>\n",
       "      <td>0</td>\n",
       "    </tr>\n",
       "    <tr>\n",
       "      <th>786A</th>\n",
       "      <td>element case endsimilar possibl initi arrang i...</td>\n",
       "      <td>0</td>\n",
       "      <td>0</td>\n",
       "      <td>0</td>\n",
       "      <td>1</td>\n",
       "      <td>0</td>\n",
       "      <td>0</td>\n",
       "      <td>0</td>\n",
       "      <td>0</td>\n",
       "      <td>1</td>\n",
       "      <td>0</td>\n",
       "      <td>0</td>\n",
       "    </tr>\n",
       "    <tr>\n",
       "      <th>914F</th>\n",
       "      <td>typeal lettersth case consist string initi pro...</td>\n",
       "      <td>0</td>\n",
       "      <td>0</td>\n",
       "      <td>0</td>\n",
       "      <td>0</td>\n",
       "      <td>1</td>\n",
       "      <td>1</td>\n",
       "      <td>0</td>\n",
       "      <td>1</td>\n",
       "      <td>0</td>\n",
       "      <td>0</td>\n",
       "      <td>0</td>\n",
       "    </tr>\n",
       "    <tr>\n",
       "      <th>766A</th>\n",
       "      <td>consist charactersif name string mahmoud appea...</td>\n",
       "      <td>0</td>\n",
       "      <td>0</td>\n",
       "      <td>0</td>\n",
       "      <td>0</td>\n",
       "      <td>0</td>\n",
       "      <td>0</td>\n",
       "      <td>0</td>\n",
       "      <td>1</td>\n",
       "      <td>0</td>\n",
       "      <td>0</td>\n",
       "      <td>0</td>\n",
       "    </tr>\n",
       "  </tbody>\n",
       "</table>\n",
       "</div>"
      ],
      "text/plain": [
       "                                       problem_statement implementation math  \\\n",
       "1034D  length exact second union calcul help getfor s...              0    0   \n",
       "1166D  valid hold consist possibl satisfi posit itth ...              0    1   \n",
       "786A   element case endsimilar possibl initi arrang i...              0    0   \n",
       "914F   typeal lettersth case consist string initi pro...              0    0   \n",
       "766A   consist charactersif name string mahmoud appea...              0    0   \n",
       "\n",
       "      greedy dp datastructures bruteforce graphs strings dfsandsimilar trees  \\\n",
       "1034D      0  0              1          0      0       0             0     0   \n",
       "1166D      1  0              0          1      0       0             0     0   \n",
       "786A       0  1              0          0      0       0             1     0   \n",
       "914F       0  0              1          1      0       1             0     0   \n",
       "766A       0  0              0          0      0       1             0     0   \n",
       "\n",
       "      geometry  \n",
       "1034D        0  \n",
       "1166D        0  \n",
       "786A         0  \n",
       "914F         0  \n",
       "766A         0  "
      ]
     },
     "execution_count": 14,
     "metadata": {},
     "output_type": "execute_result"
    }
   ],
   "source": [
    "# train test split\n",
    "from sklearn.model_selection import train_test_split\n",
    "train, test = train_test_split(\n",
    "    new_df, test_size=0.2, random_state=config.SEED)\n",
    "print(train.shape, test.shape)\n",
    "\n",
    "train.to_pickle(config.TRAIN)\n",
    "test.to_pickle(config.TEST)\n",
    "train.tail()"
   ]
  }
 ],
 "metadata": {
  "kernelspec": {
   "display_name": "Python 3.8.10 64-bit",
   "language": "python",
   "name": "python3"
  },
  "language_info": {
   "codemirror_mode": {
    "name": "ipython",
    "version": 3
   },
   "file_extension": ".py",
   "mimetype": "text/x-python",
   "name": "python",
   "nbconvert_exporter": "python",
   "pygments_lexer": "ipython3",
   "version": "3.8.10"
  },
  "orig_nbformat": 4,
  "vscode": {
   "interpreter": {
    "hash": "916dbcbb3f70747c44a77c7bcd40155683ae19c65e1c03b4aa3499c5328201f1"
   }
  }
 },
 "nbformat": 4,
 "nbformat_minor": 2
}
