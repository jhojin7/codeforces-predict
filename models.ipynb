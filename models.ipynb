{
 "cells": [
  {
   "cell_type": "code",
   "execution_count": 1,
   "metadata": {},
   "outputs": [],
   "source": [
    "import config\n",
    "\n",
    "import pandas as pd\n",
    "import pandas as pd\n",
    "from sklearn.metrics import accuracy_score\n",
    "from sklearn.model_selection import train_test_split\n",
    "from sklearn.preprocessing import MultiLabelBinarizer\n",
    "from sklearn.pipeline import Pipeline\n",
    "from sklearn.feature_extraction.text import TfidfVectorizer\n",
    "from sklearn.feature_extraction.text import CountVectorizer"
   ]
  },
  {
   "cell_type": "code",
   "execution_count": 2,
   "metadata": {},
   "outputs": [
    {
     "name": "stdout",
     "output_type": "stream",
     "text": [
      "464E     shortest number path weight given state undire...\n",
      "25C      known shortest open guarante number row given ...\n",
      "107B     mani guarante correspond wafa power point find...\n",
      "1181A    mani negat find per solut economi changa pay p...\n",
      "1081B    weird parti poor find wore similar forgot solu...\n",
      "Name: problem_statement, dtype: object\n",
      "(6272,) (6272,)\n",
      "(1568,) (1568,)\n"
     ]
    }
   ],
   "source": [
    "train = pd.read_pickle(\"./data/train.pkl\")\n",
    "test = pd.read_pickle(\"./data/test.pkl\")\n",
    "X_train, y_train = train[\"problem_statement\"], train[\"tags\"]\n",
    "X_test, y_test = test[\"problem_statement\"], test[\"tags\"]\n",
    "\n",
    "print(X_train.tail())\n",
    "print(X_train.shape, y_train.shape)\n",
    "print(X_test.shape, y_test.shape)"
   ]
  },
  {
   "cell_type": "code",
   "execution_count": 3,
   "metadata": {},
   "outputs": [
    {
     "name": "stdout",
     "output_type": "stream",
     "text": [
      "['2-sat' 'binarysearch' 'bitmasks' 'bruteforce' 'chineseremaindertheorem'\n",
      " 'combinatorics' 'constructivealgorithms' 'datastructures' 'dfsandsimilar'\n",
      " 'divideandconquer' 'dp' 'dsu' 'expressionparsing' 'fft' 'flows' 'games'\n",
      " 'geometry' 'graphmatchings' 'graphs' 'greedy' 'hashing' 'implementation'\n",
      " 'interactive' 'math' 'matrices' 'meet-in-the-middle' 'nan' 'numbertheory'\n",
      " 'probabilities' 'schedules' 'shortestpaths' 'sortings' 'strings'\n",
      " 'stringsuffixstructures' 'ternarysearch' 'trees' 'twopointers']\n",
      "(6272, 37)\n",
      "(6272,) (6272,)\n"
     ]
    }
   ],
   "source": [
    "# multilabel binarizer\n",
    "mlb = MultiLabelBinarizer()\n",
    "y_train_onehot = pd.DataFrame(mlb.fit_transform(y_train),\n",
    "    columns=mlb.classes_, index=y_train.index)\n",
    "y_test_onehot = pd.DataFrame(mlb.fit_transform(y_test),\n",
    "    columns=mlb.classes_, index=y_test.index)\n",
    "\n",
    "print(mlb.classes_)\n",
    "print(y_train_onehot.shape)\n",
    "print(X_train.shape, y_train_onehot[\"implementation\"].shape)\n"
   ]
  },
  {
   "cell_type": "code",
   "execution_count": 4,
   "metadata": {},
   "outputs": [
    {
     "name": "stdout",
     "output_type": "stream",
     "text": [
      "(6272, 12569)\n",
      "(1568, 12569)\n"
     ]
    }
   ],
   "source": [
    "from sklearn.feature_extraction.text import CountVectorizer\n",
    "count_vect = CountVectorizer()\n",
    "X_train_counts = count_vect.fit_transform(X_train)\n",
    "print(X_train_counts.shape)\n",
    "X_test_counts = count_vect.transform(X_test)\n",
    "print(X_test_counts.shape)\n"
   ]
  },
  {
   "cell_type": "code",
   "execution_count": 5,
   "metadata": {},
   "outputs": [
    {
     "name": "stdout",
     "output_type": "stream",
     "text": [
      "['greedy', 'math'] ['datastructures', 'greedy']\n"
     ]
    }
   ],
   "source": [
    "from sklearn.naive_bayes import MultinomialNB\n",
    "clf = MultinomialNB()\n",
    "\n",
    "tags = mlb.classes_\n",
    "for tag in tags:\n",
    "    clf.fit(X_train_counts, y_train_onehot[tag])\n",
    "\n",
    "def predict(ii):\n",
    "    X_test_ii = X_test_counts[ii]\n",
    "    y_preds = []\n",
    "    for tag in tags:\n",
    "        clf.fit(X_train_counts, y_train_onehot[tag])\n",
    "        y_pred = clf.predict(X_test_ii)\n",
    "        y_preds.extend(y_pred)\n",
    "    # print(y_preds)\n",
    "    # print(list(y_test_onehot.iloc[ii]))\n",
    "    # print(y_test[ii])\n",
    "\n",
    "    y_ans = []\n",
    "    for i in range(len(y_preds)):\n",
    "        if y_preds[i]: \n",
    "            y_ans.append(tags[i])\n",
    "    return y_ans\n",
    "\n",
    "print(predict(1000), y_test.iloc[1000])"
   ]
  }
 ],
 "metadata": {
  "kernelspec": {
   "display_name": "Python 3.8.10 64-bit",
   "language": "python",
   "name": "python3"
  },
  "language_info": {
   "codemirror_mode": {
    "name": "ipython",
    "version": 3
   },
   "file_extension": ".py",
   "mimetype": "text/x-python",
   "name": "python",
   "nbconvert_exporter": "python",
   "pygments_lexer": "ipython3",
   "version": "3.8.10"
  },
  "orig_nbformat": 4,
  "vscode": {
   "interpreter": {
    "hash": "916dbcbb3f70747c44a77c7bcd40155683ae19c65e1c03b4aa3499c5328201f1"
   }
  }
 },
 "nbformat": 4,
 "nbformat_minor": 2
}
