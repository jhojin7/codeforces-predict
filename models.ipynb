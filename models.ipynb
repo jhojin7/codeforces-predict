{
 "cells": [
  {
   "cell_type": "code",
   "execution_count": 1,
   "metadata": {},
   "outputs": [],
   "source": [
    "import config\n",
    "import pandas as pd\n",
    "import pickle"
   ]
  },
  {
   "cell_type": "code",
   "execution_count": 2,
   "metadata": {},
   "outputs": [
    {
     "name": "stdout",
     "output_type": "stream",
     "text": [
      "990C     the singl \")\". \"+\" second concaten sum line pr...\n",
      "1154C    the addit stake certain wednesday exclud secon...\n",
      "339C     that the kilo scalepan avail infinit put each ...\n",
      "909D     would the singl give each english second left ...\n",
      "582E     the two five singl know second use miss way ra...\n",
      "Name: problem_statement, dtype: object\n",
      "(6272,) (6272,)\n",
      "(1568,) (1568,)\n"
     ]
    }
   ],
   "source": [
    "train = pd.read_pickle(config.TRAIN)\n",
    "test = pd.read_pickle(config.TEST)\n",
    "X_train, y_train = train[\"problem_statement\"], train[\"tags\"]\n",
    "X_test, y_test = test[\"problem_statement\"], test[\"tags\"]\n",
    "\n",
    "print(X_train.tail())\n",
    "print(X_train.shape, y_train.shape)\n",
    "print(X_test.shape, y_test.shape)"
   ]
  },
  {
   "cell_type": "code",
   "execution_count": 3,
   "metadata": {},
   "outputs": [
    {
     "name": "stdout",
     "output_type": "stream",
     "text": [
      "['2-sat' 'binarysearch' 'bitmasks' 'bruteforce' 'chineseremaindertheorem'\n",
      " 'combinatorics' 'constructivealgorithms' 'datastructures' 'dfsandsimilar'\n",
      " 'divideandconquer' 'dp' 'dsu' 'expressionparsing' 'fft' 'flows' 'games'\n",
      " 'geometry' 'graphmatchings' 'graphs' 'greedy' 'hashing' 'implementation'\n",
      " 'interactive' 'math' 'matrices' 'meet-in-the-middle' 'nan' 'numbertheory'\n",
      " 'probabilities' 'schedules' 'shortestpaths' 'sortings' 'strings'\n",
      " 'stringsuffixstructures' 'ternarysearch' 'trees' 'twopointers']\n",
      "(6272, 37)\n",
      "(6272,) (6272,)\n"
     ]
    }
   ],
   "source": [
    "# multilabel binarizer\n",
    "from sklearn.preprocessing import MultiLabelBinarizer\n",
    "mlb = MultiLabelBinarizer()\n",
    "y_train_onehot = pd.DataFrame(mlb.fit_transform(y_train),\n",
    "    columns=mlb.classes_, index=y_train.index)\n",
    "y_test_onehot = pd.DataFrame(mlb.fit_transform(y_test),\n",
    "    columns=mlb.classes_, index=y_test.index)\n",
    "\n",
    "print(mlb.classes_)\n",
    "tags = mlb.classes_\n",
    "\n",
    "print(y_train_onehot.shape)\n",
    "print(X_train.shape, y_train_onehot[\"implementation\"].shape)\n"
   ]
  },
  {
   "cell_type": "code",
   "execution_count": 4,
   "metadata": {},
   "outputs": [
    {
     "name": "stdout",
     "output_type": "stream",
     "text": [
      "(6272, 200)\n",
      "(1568, 200)\n"
     ]
    }
   ],
   "source": [
    "from sklearn.feature_extraction.text import CountVectorizer\n",
    "count_vect = CountVectorizer(max_features=config.MAX_FEATURES)\n",
    "X_train_counts = count_vect.fit_transform(X_train)\n",
    "print(X_train_counts.shape)\n",
    "X_test_counts = count_vect.transform(X_test)\n",
    "print(X_test_counts.shape)\n"
   ]
  },
  {
   "cell_type": "code",
   "execution_count": 5,
   "metadata": {},
   "outputs": [
    {
     "name": "stdout",
     "output_type": "stream",
     "text": [
      "(1, 200)\n",
      "[] ['graphs', 'implementation']\n"
     ]
    }
   ],
   "source": [
    "from sklearn.naive_bayes import MultinomialNB\n",
    "clf = MultinomialNB()\n",
    "\n",
    "def tags_as_str(y_pred):\n",
    "    y_ans = []\n",
    "    for i in range(len(y_pred)):\n",
    "        if y_pred[i]: \n",
    "            y_ans.append(tags[i])\n",
    "    return y_ans\n",
    "\n",
    "\n",
    "\n",
    "def predict(ii):\n",
    "    X_test_ii = X_test_counts[ii]\n",
    "    y_preds = []\n",
    "    print(X_test_ii.shape)\n",
    "    for tag in tags:\n",
    "        clf.fit(X_train_counts, y_train_onehot[tag])\n",
    "        y_pred = clf.predict(X_test_ii)\n",
    "        y_preds.extend(y_pred)\n",
    "    # print(y_preds)\n",
    "    # print(list(y_test_onehot.iloc[ii]))\n",
    "    # print(y_test[ii])\n",
    "    return tags_as_str(y_preds)\n",
    "\n",
    "print(predict(1000), y_test.iloc[1000])"
   ]
  },
  {
   "cell_type": "code",
   "execution_count": 6,
   "metadata": {},
   "outputs": [
    {
     "name": "stdout",
     "output_type": "stream",
     "text": [
      "probelm solv stupid cannot dynam trick program graph\n",
      "['cannot' 'dynam' 'graph' 'probelm' 'program' 'solv' 'stupid' 'trick']\n",
      "(1, 8)\n"
     ]
    }
   ],
   "source": [
    "from preprocess import preprocess_text\n",
    "samples = [\"this is a stupid dynamic programming probelm that you cannot solve with graph tricks.\",\n",
    "\"can you solve me?\"]\n",
    "X_clean = preprocess_text(samples[0])\n",
    "print(X_clean)\n",
    "\n",
    "vectorizer = CountVectorizer(max_features=config.MAX_FEATURES)\n",
    "import numpy as np\n",
    "X_clean_vec = vectorizer.fit_transform([X_clean])\n",
    "print(vectorizer.get_feature_names_out())\n",
    "np.pad(X_clean_vec,(0,3), mode=\"constant\")\n",
    "print(X_clean_vec.shape)"
   ]
  },
  {
   "cell_type": "code",
   "execution_count": 7,
   "metadata": {},
   "outputs": [
    {
     "data": {
      "text/plain": [
       "0    paramet line defin bit statement contain type ...\n",
       "Name: 678D, dtype: object"
      ]
     },
     "execution_count": 7,
     "metadata": {},
     "output_type": "execute_result"
    }
   ],
   "source": [
    "from sklearn.pipeline import FunctionTransformer\n",
    "def ftrans(X:pd.DataFrame):\n",
    "    X_clean = []\n",
    "    for x in X:\n",
    "        X_clean.append(preprocess_text(x))\n",
    "    return pd.DataFrame(X_clean, index=X.index)\n",
    "ffff = FunctionTransformer(ftrans)\n",
    "aaa = ffff.fit_transform(X_train)\n",
    "aaa.iloc[0]"
   ]
  },
  {
   "cell_type": "code",
   "execution_count": 8,
   "metadata": {},
   "outputs": [
    {
     "name": "stdout",
     "output_type": "stream",
     "text": [
      "(6272, 200) (6272, 37)\n",
      "OneVsRestClassifier(estimator=MultinomialNB())\n",
      "(1, 200) (1, 37)\n",
      "[[0 0 0 0 0 0 0 0 0 0 0 0 0 0 0 0 0 0 0 0 0 0 0 0 0 0 0 0 0 1 0 0 0 0 0 0\n",
      "  0]] ['schedules']\n"
     ]
    }
   ],
   "source": [
    "from sklearn.pipeline import Pipeline\n",
    "from sklearn.multiclass import OneVsOneClassifier,OneVsRestClassifier\n",
    "from sklearn.multioutput import MultiOutputClassifier\n",
    "\n",
    "mlb = MultiLabelBinarizer()\n",
    "y_train_ml = mlb.fit_transform(y_train)\n",
    "print(X_train_counts.shape, y_train_ml.shape)\n",
    "\n",
    "clf = OneVsRestClassifier(MultinomialNB()).fit(X_train_counts, y_train_ml)\n",
    "print(clf)\n",
    "\n",
    "# ValueError: X has 8 features, \n",
    "# but MultinomialNB is expecting 200 features as input.\n",
    "# print(X_clean_vec.reshape((X_clean_vec.shape[0],config.MAX_FEATURES)))\n",
    "\n",
    "XXXX = np.resize(X_clean_vec.toarray(),(X_clean_vec.shape[0],config.MAX_FEATURES))\n",
    "y_pred = clf.predict(XXXX)\n",
    "print(XXXX.shape,y_pred.shape)\n",
    "print(y_pred,tags_as_str(y_pred[0]))"
   ]
  },
  {
   "cell_type": "code",
   "execution_count": 9,
   "metadata": {},
   "outputs": [],
   "source": [
    "pipeline = Pipeline([\n",
    "    (\"count_vec\",CountVectorizer(max_features=config.MAX_FEATURES)),\n",
    "    # (\"mlb\",MultiLabelBinarizer(sparse_output=True)), #cannot transform y in pipeline\n",
    "    (\"multi_nb\",OneVsRestClassifier(MultinomialNB())),\n",
    "])\n",
    "pipeline.fit(X_train,y_train_ml)\n",
    "pickle.dump((pipeline,tags), open(config.MODEL, 'wb'))"
   ]
  },
  {
   "cell_type": "code",
   "execution_count": 10,
   "metadata": {},
   "outputs": [
    {
     "name": "stdout",
     "output_type": "stream",
     "text": [
      "(1568, 37) (1568, 37)\n"
     ]
    },
    {
     "data": {
      "text/plain": [
       "0.051658163265306124"
      ]
     },
     "execution_count": 10,
     "metadata": {},
     "output_type": "execute_result"
    }
   ],
   "source": [
    "from sklearn.metrics import accuracy_score\n",
    "# X_test_counts = count_vect.transform(X_test)\n",
    "y_test_onehot = mlb.fit_transform(y_test)\n",
    "y_pred = pipeline.predict(X_test)\n",
    "print(y_test_onehot.shape, y_pred.shape)\n",
    "accuracy_score(y_test_onehot, y_pred)"
   ]
  },
  {
   "cell_type": "code",
   "execution_count": 11,
   "metadata": {},
   "outputs": [
    {
     "name": "stdout",
     "output_type": "stream",
     "text": [
      "['greedy']\n",
      "[]\n",
      "['constructivealgorithms', 'implementation', 'math']\n"
     ]
    }
   ],
   "source": [
    "samples = [\n",
    "# 1746A constructive, greedy\n",
    "    \"\"\"You have an array a of size n consisting only of zeroes and ones and an integer k. In one operation you can do one of the following:\n",
    "\n",
    "Select 2 consecutive elements of a and replace them with their minimum (that is, let $$$a:=[a1,a2,…,ai−1,min(ai,ai+1),ai+2,…,an]$$$ for some $$$1≤i≤n−1$$$). This operation decreases the size of a by 1.\n",
    "Select k consecutive elements of a and replace them with their maximum (that is, let $$$a:=[a1,a2,…,ai−1,max(ai,ai+1,…,ai+k−1),ai+k,…,an]$$$ for some $$$1≤i≤n−k+1$$$). This operation decreases the size of a by k−1.\n",
    "Determine if it's possible to turn a into $$$[1]$$$ after several (possibly zero) operations.\"\"\", \n",
    "# 1742A implementation\n",
    "\"\"\"You are given three integers a, b, and c. Determine if one of them is the sum of the other two.\"\"\" ,\n",
    "# same problem with input, output directions\n",
    "\"\"\"You are given three integers a, b, and c. Determine if one of them is the sum of the other two.\n",
    "\n",
    "The first line contains a single integer t $$$(1≤t≤9261)$$$ — the number of test cases.\n",
    "\n",
    "The description of each test case consists of three integers a, b, c $$$(0≤a,b,c≤20)$$$.\n",
    "\n",
    "For each test case, output \"YES\" if one of the numbers is the sum of the other two, and \"NO\" otherwise.\n",
    "\n",
    "You can output the answer in any case (for example, the strings \"yEs\", \"yes\", \"Yes\" and \"YES\" will be recognized as a positive answer).\"\"\"\n",
    "] \n",
    "for i in range(len(samples)):\n",
    "    samples[i] = preprocess_text(samples[i])\n",
    "\n",
    "y_pred = pipeline.predict(samples)\n",
    "for y in y_pred:\n",
    "    print(tags_as_str(y))"
   ]
  }
 ],
 "metadata": {
  "kernelspec": {
   "display_name": "Python 3.8.10 64-bit",
   "language": "python",
   "name": "python3"
  },
  "language_info": {
   "codemirror_mode": {
    "name": "ipython",
    "version": 3
   },
   "file_extension": ".py",
   "mimetype": "text/x-python",
   "name": "python",
   "nbconvert_exporter": "python",
   "pygments_lexer": "ipython3",
   "version": "3.8.10"
  },
  "orig_nbformat": 4,
  "vscode": {
   "interpreter": {
    "hash": "916dbcbb3f70747c44a77c7bcd40155683ae19c65e1c03b4aa3499c5328201f1"
   }
  }
 },
 "nbformat": 4,
 "nbformat_minor": 2
}
